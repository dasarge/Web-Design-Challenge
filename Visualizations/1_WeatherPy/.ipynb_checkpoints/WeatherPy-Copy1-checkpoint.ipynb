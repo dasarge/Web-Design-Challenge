{
 "cells": [
  {
   "cell_type": "markdown",
   "metadata": {},
   "source": [
    "# WeatherPy\n",
    "----\n",
    "\n",
    "#### Note\n",
    "* Instructions have been included for each segment. You do not have to follow them exactly, but they are included to help you think through the steps."
   ]
  },
  {
   "cell_type": "code",
   "execution_count": 37,
   "metadata": {
    "scrolled": true
   },
   "outputs": [],
   "source": [
    "# Dependencies and Setup\n",
    "import matplotlib.pyplot as plt\n",
    "import pandas as pd\n",
    "import numpy as np\n",
    "import requests\n",
    "import time\n",
    "from scipy.stats import linregress\n",
    "\n",
    "\n",
    "# Import API key\n",
    "from api_keys import weather_api_key\n",
    "\n",
    "# Incorporated citipy to determine city based on latitude and longitude\n",
    "from citipy import citipy\n",
    "\n",
    "# Output File (CSV)\n",
    "output_data_file = (\"..\", \"output_data/cities.csv\")\n",
    "\n",
    "# Range of latitudes and longitudes\n",
    "lat_range = (-10, 10)\n",
    "lng_range = (-5, 5)"
   ]
  },
  {
   "cell_type": "markdown",
   "metadata": {},
   "source": [
    "## Generate Cities List"
   ]
  },
  {
   "cell_type": "code",
   "execution_count": 38,
   "metadata": {},
   "outputs": [
    {
     "data": {
      "text/plain": [
       "147"
      ]
     },
     "execution_count": 38,
     "metadata": {},
     "output_type": "execute_result"
    }
   ],
   "source": [
    "# List for holding lat_lngs and cities\n",
    "lat_lngs = []\n",
    "cities = []\n",
    "\n",
    "# Create a set of random lat and lng combinations\n",
    "lats = np.random.uniform(lat_range[0], lat_range[1], size=1500)\n",
    "lngs = np.random.uniform(lng_range[0], lng_range[1], size=1500)\n",
    "lat_lngs = zip(lats, lngs)\n",
    "\n",
    "# Identify nearest city for each lat, lng combination\n",
    "for lat_lng in lat_lngs:\n",
    "    city = citipy.nearest_city(lat_lng[0], lat_lng[1]).city_name\n",
    "   \n",
    "    # If the city is unique, then add it to a our cities list\n",
    "    if city not in cities:\n",
    "        cities.append(city)\n",
    "\n",
    "# Print the city count to confirm sufficient count\n",
    "len(cities)"
   ]
  },
  {
   "cell_type": "markdown",
   "metadata": {},
   "source": [
    "### Perform API Calls\n",
    "* Perform a weather check on each city using a series of successive API calls.\n",
    "* Include a print log of each city as it'sbeing processed (with the city number and city name).\n"
   ]
  },
  {
   "cell_type": "code",
   "execution_count": 39,
   "metadata": {
    "scrolled": true
   },
   "outputs": [
    {
     "name": "stdout",
     "output_type": "stream",
     "text": [
      "http://api.openweathermap.org/data/2.5/weather?appid=03807ab851ea52cddd7b52d74fcab014&units=imperial&q=\n"
     ]
    }
   ],
   "source": [
    "url = \"http://api.openweathermap.org/data/2.5/weather?\"\n",
    "\n",
    "unit = \"imperial\"\n",
    "\n",
    "query_url = url + \"appid=\" + weather_api_key + \"&units=\" + unit + \"&q=\"\n",
    "\n",
    "print(query_url)\n",
    "\n"
   ]
  },
  {
   "cell_type": "code",
   "execution_count": 40,
   "metadata": {
    "scrolled": true
   },
   "outputs": [
    {
     "name": "stdout",
     "output_type": "stream",
     "text": [
      "\n",
      "-----------------------------\n",
      "\n",
      "Data Retrieval Begin\n",
      "\n",
      "-----------------------------\n",
      "Processing record 1 of set 1 | takoradi.\n",
      "Processing record 2 of set 1 | jamestown.\n",
      "Processing record 3 of set 1 | mumford.\n",
      "Processing record 4 of set 1 | begoro.\n",
      "Processing record 5 of set 1 | omboue.\n",
      "Processing record 6 of set 1 | kontagora.\n",
      "Processing record 7 of set 1 | bibiani.\n",
      "Processing record 8 of set 1 | grand-lahou.\n",
      "Processing record 9 of set 1 | adzope.\n",
      "Processing record 10 of set 1 | axim.\n",
      "Processing record 11 of set 1 | san-pedro.\n",
      "Processing record 12 of set 1 | kintampo.\n",
      "Processing record 13 of set 1 | anloga.\n",
      "Processing record 14 of set 1 | tabou.\n",
      "Processing record 15 of set 1 | bonoua.\n",
      "Processing record 16 of set 1 | gamba.\n",
      "not found\n",
      "Processing record 17 of set 1 | georgetown.\n",
      "Processing record 18 of set 1 | cape coast.\n",
      "Processing record 19 of set 1 | ogbomosho.\n",
      "Processing record 20 of set 1 | bouna.\n",
      "Processing record 21 of set 1 | port-gentil.\n",
      "Processing record 22 of set 1 | anyama.\n",
      "Processing record 23 of set 1 | sunyani.\n",
      "Processing record 24 of set 1 | mayumba.\n",
      "Processing record 25 of set 1 | savalou.\n",
      "Processing record 26 of set 1 | cotonou.\n",
      "Processing record 27 of set 1 | ferkessedougou.\n",
      "Processing record 28 of set 1 | abengourou.\n",
      "Processing record 29 of set 1 | agnibilekrou.\n",
      "Processing record 30 of set 1 | niamtougou.\n",
      "Processing record 31 of set 1 | kpandae.\n",
      "Processing record 32 of set 1 | ife.\n",
      "Processing record 33 of set 1 | gaoua.\n",
      "Processing record 34 of set 1 | dunkwa.\n",
      "Processing record 35 of set 1 | soyo.\n",
      "Processing record 36 of set 1 | teshie.\n",
      "Processing record 37 of set 1 | dabakala.\n",
      "Processing record 38 of set 1 | warri.\n",
      "Processing record 39 of set 1 | aboso.\n",
      "Processing record 40 of set 1 | accra.\n",
      "Processing record 41 of set 1 | yenagoa.\n",
      "Processing record 42 of set 1 | ilorin.\n",
      "Processing record 43 of set 1 | parakou.\n",
      "not found\n",
      "Processing record 44 of set 1 | aneho.\n",
      "Processing record 45 of set 1 | kishi.\n",
      "Processing record 46 of set 1 | winneba.\n",
      "Processing record 47 of set 1 | kade.\n",
      "Processing record 48 of set 1 | jacqueville.\n",
      "Processing record 49 of set 1 | bondoukou.\n",
      "Processing record 50 of set 1 | djougou.\n",
      "Processing record 1 of set 2 | lagos.\n",
      "Processing record 2 of set 2 | adiake.\n",
      "Processing record 3 of set 2 | salaga.\n",
      "Processing record 4 of set 2 | tanda.\n",
      "Processing record 5 of set 2 | berekum.\n",
      "Processing record 6 of set 2 | akropong.\n",
      "Processing record 7 of set 2 | badou.\n",
      "Processing record 8 of set 2 | bechem.\n",
      "Processing record 9 of set 2 | ibadan.\n",
      "Processing record 10 of set 2 | sakete.\n",
      "Processing record 11 of set 2 | saltpond.\n",
      "Processing record 12 of set 2 | ketou.\n",
      "Processing record 13 of set 2 | save.\n",
      "Processing record 14 of set 2 | ejura.\n",
      "Processing record 15 of set 2 | mampong.\n",
      "Processing record 16 of set 2 | nikki.\n",
      "Processing record 17 of set 2 | ilesha.\n",
      "not found\n",
      "Processing record 18 of set 2 | bassila.\n",
      "Processing record 19 of set 2 | allada.\n",
      "Processing record 20 of set 2 | tamale.\n",
      "Processing record 21 of set 2 | nkawkaw.\n",
      "Processing record 22 of set 2 | sotouboua.\n",
      "Processing record 23 of set 2 | oshogbo.\n",
      "Processing record 24 of set 2 | bocanda.\n",
      "Processing record 25 of set 2 | beterou.\n",
      "Processing record 26 of set 2 | agogo.\n",
      "Processing record 27 of set 2 | kibi.\n",
      "Processing record 28 of set 2 | agboville.\n",
      "Processing record 29 of set 2 | tchaourou.\n",
      "Processing record 30 of set 2 | alepe.\n",
      "Processing record 31 of set 2 | bassar.\n",
      "Processing record 32 of set 2 | yendi.\n",
      "Processing record 33 of set 2 | ondo.\n",
      "Processing record 34 of set 2 | gbongan.\n",
      "Processing record 35 of set 2 | mpraeso.\n",
      "Processing record 36 of set 2 | hohoe.\n",
      "Processing record 37 of set 2 | okitipupa.\n",
      "Processing record 38 of set 2 | tema.\n",
      "Processing record 39 of set 2 | shagamu.\n",
      "Processing record 40 of set 2 | wenchi.\n",
      "Processing record 41 of set 2 | kpandu.\n",
      "Processing record 42 of set 2 | notse.\n",
      "Processing record 43 of set 2 | asamankese.\n",
      "Processing record 44 of set 2 | shama.\n",
      "Processing record 45 of set 2 | ouidah.\n",
      "Processing record 46 of set 2 | ayame.\n",
      "Processing record 47 of set 2 | daoukro.\n",
      "Processing record 48 of set 2 | sapele.\n",
      "Processing record 49 of set 2 | abeokuta.\n",
      "Processing record 50 of set 2 | apomu.\n",
      "Processing record 1 of set 3 | tafo.\n",
      "Processing record 2 of set 3 | savelugu.\n",
      "Processing record 3 of set 3 | keta.\n",
      "Processing record 4 of set 3 | abomey.\n",
      "Processing record 5 of set 3 | banfora.\n",
      "Processing record 6 of set 3 | bekwai.\n",
      "Processing record 7 of set 3 | sokode.\n",
      "Processing record 8 of set 3 | tiassale.\n",
      "Processing record 9 of set 3 | tsevie.\n",
      "not found\n",
      "Processing record 10 of set 3 | lokossa.\n",
      "Processing record 11 of set 3 | obuasi.\n",
      "Processing record 12 of set 3 | tiebissou.\n",
      "Processing record 13 of set 3 | tabligbo.\n",
      "Processing record 14 of set 3 | arrah.\n",
      "Processing record 15 of set 3 | techiman.\n",
      "Processing record 16 of set 3 | abidjan.\n",
      "Processing record 17 of set 3 | swedru.\n",
      "Processing record 18 of set 3 | lalupon.\n",
      "Processing record 19 of set 3 | elmina.\n",
      "Processing record 20 of set 3 | aboisso.\n",
      "not found\n",
      "Processing record 21 of set 3 | kumasi.\n",
      "Processing record 22 of set 3 | batie.\n",
      "Processing record 23 of set 3 | tchamba.\n",
      "Processing record 24 of set 3 | bembereke.\n",
      "Processing record 25 of set 3 | igboho.\n",
      "Processing record 26 of set 3 | vogan.\n",
      "Processing record 27 of set 3 | ede.\n",
      "Processing record 28 of set 3 | dimbokro.\n",
      "Processing record 29 of set 3 | pobe.\n",
      "Processing record 30 of set 3 | konongo.\n",
      "Processing record 31 of set 3 | iseyin.\n",
      "Processing record 32 of set 3 | dabou.\n",
      "Processing record 33 of set 3 | oyan.\n",
      "Processing record 34 of set 3 | epe.\n",
      "Processing record 35 of set 3 | aplahoue.\n",
      "Processing record 36 of set 3 | kara.\n",
      "Processing record 37 of set 3 | ifo.\n",
      "Processing record 38 of set 3 | aflao.\n",
      "Processing record 39 of set 3 | atakpame.\n",
      "Processing record 40 of set 3 | igbo ora.\n",
      "Processing record 41 of set 3 | affery.\n",
      "Processing record 42 of set 3 | eruwa.\n",
      "\n",
      "-----------------------------\n",
      "     Data Retrieval End\n",
      "-----------------------------\n"
     ]
    }
   ],
   "source": [
    "#number of Cities\n",
    "x = 0\n",
    "set = 1\n",
    "\n",
    "#Variables\n",
    "temp = []\n",
    "humd = []\n",
    "cloud = []\n",
    "wind_spd = []\n",
    "lat = []\n",
    "lon = []\n",
    "city_ = []\n",
    "city_no = []\n",
    "country = []\n",
    "max_t = []\n",
    "date = []\n",
    "\n",
    "\n",
    "print('''\n",
    "-----------------------------\n",
    "\n",
    "Data Retrieval Begin\n",
    "\n",
    "-----------------------------''')\n",
    "\n",
    "\n",
    "for city in cities:\n",
    "    try:\n",
    "        \n",
    "        city_data = (requests.get(query_url + city)).json()\n",
    "        city_.append(city_data[\"name\"])\n",
    "        country.append(city_data[\"sys\"][\"country\"])\n",
    "        date.append(city_data[\"dt\"])        \n",
    "        lat.append(city_data[\"coord\"][\"lat\"])\n",
    "        lon.append(city_data[\"coord\"][\"lon\"])        \n",
    "        temp.append(city_data[\"main\"][\"temp\"])\n",
    "        max_t.append(city_data[\"main\"][\"temp_max\"])\n",
    "        humd.append(city_data[\"main\"][\"humidity\"])\n",
    "        cloud.append(city_data[\"clouds\"][\"all\"])\n",
    "        wind_spd.append(city_data[\"wind\"][\"speed\"])\n",
    "\n",
    "        \n",
    "        if x == 50:\n",
    "            x = 1\n",
    "            set += 1\n",
    "            time.sleep(60)\n",
    "            \n",
    "        else:\n",
    "            x += 1\n",
    "        \n",
    "        print(f\"Processing record {x} of set {set} | {city}.\")\n",
    " \n",
    "    except KeyError:\n",
    "        print(\"not found\")\n",
    "        \n",
    "print('''\n",
    "-----------------------------\n",
    "     Data Retrieval End\n",
    "-----------------------------''')\n"
   ]
  },
  {
   "cell_type": "code",
   "execution_count": 44,
   "metadata": {},
   "outputs": [
    {
     "data": {
      "text/plain": [
       "142"
      ]
     },
     "execution_count": 44,
     "metadata": {},
     "output_type": "execute_result"
    }
   ],
   "source": [
    "len(city_)"
   ]
  },
  {
   "cell_type": "code",
   "execution_count": 55,
   "metadata": {},
   "outputs": [
    {
     "ename": "NameError",
     "evalue": "name 'value' is not defined",
     "output_type": "error",
     "traceback": [
      "\u001b[1;31m---------------------------------------------------------------------------\u001b[0m",
      "\u001b[1;31mNameError\u001b[0m                                 Traceback (most recent call last)",
      "\u001b[1;32m<ipython-input-55-5225711394c1>\u001b[0m in \u001b[0;36m<module>\u001b[1;34m\u001b[0m\n\u001b[1;32m----> 1\u001b[1;33m \u001b[0mhumd\u001b[0m\u001b[1;33m(\u001b[0m\u001b[0mvalue\u001b[0m\u001b[1;33m)\u001b[0m\u001b[1;33m\u001b[0m\u001b[1;33m\u001b[0m\u001b[0m\n\u001b[0m",
      "\u001b[1;31mNameError\u001b[0m: name 'value' is not defined"
     ]
    }
   ],
   "source": []
  },
  {
   "cell_type": "markdown",
   "metadata": {},
   "source": [
    "### Convert Raw Data to DataFrame\n",
    "* Export the city data into a .csv.\n",
    "* Display the DataFrame"
   ]
  },
  {
   "cell_type": "code",
   "execution_count": 45,
   "metadata": {
    "scrolled": true
   },
   "outputs": [
    {
     "data": {
      "text/plain": [
       "City          142\n",
       "Country       142\n",
       "Date          142\n",
       "Lat           142\n",
       "Lng           142\n",
       "Max Temp      142\n",
       "Humidity      142\n",
       "Cloudiness    142\n",
       "Wind Speed    142\n",
       "dtype: int64"
      ]
     },
     "execution_count": 45,
     "metadata": {},
     "output_type": "execute_result"
    }
   ],
   "source": [
    "# summary_grouped_df = pd.DataFrame({'Mean Tumor Volume (mm3)': tumor_mean, 'Median Tumor Volume (mm3)': tumor_median, 'Variance Tumor Volume (mm3)': tumor_var,\n",
    "#                                    'Standard Deviation Tumor Volume (mm3)': tumor_std, 'SEM Tumor Volume (mm3)': tumor_sem})\n",
    "\n",
    "\n",
    "# summary_grouped_df = pd.DataFrame({\"City\": city_, \"Lat\": lat, \"Lng\": lon, \"Max Temp\": max_t, \"Humidity\": humd, \"Cloudiness\": cloud, \"Wind Speed\": wind_spd, \"date\": date})\n",
    "\n",
    "city_dict = {\n",
    "    \"City\": city_, \n",
    "    \"Country\": country, \n",
    "    \"Date\": date,\n",
    "    \"Lat\": lat, \n",
    "    \"Lng\": lon, \n",
    "    \"Max Temp\": max_t, \n",
    "    \"Humidity\": humd, \n",
    "    \"Cloudiness\": cloud, \n",
    "    \"Wind Speed\": wind_spd  \n",
    "}\n",
    "\n",
    "city_data_df = pd.DataFrame(city_dict)\n",
    "\n",
    "city_data_df.count()"
   ]
  },
  {
   "cell_type": "code",
   "execution_count": 49,
   "metadata": {},
   "outputs": [
    {
     "data": {
      "text/html": [
       "<div>\n",
       "<style scoped>\n",
       "    .dataframe tbody tr th:only-of-type {\n",
       "        vertical-align: middle;\n",
       "    }\n",
       "\n",
       "    .dataframe tbody tr th {\n",
       "        vertical-align: top;\n",
       "    }\n",
       "\n",
       "    .dataframe thead th {\n",
       "        text-align: right;\n",
       "    }\n",
       "</style>\n",
       "<table border=\"1\" class=\"dataframe\">\n",
       "  <thead>\n",
       "    <tr style=\"text-align: right;\">\n",
       "      <th></th>\n",
       "      <th>City</th>\n",
       "      <th>Country</th>\n",
       "      <th>Date</th>\n",
       "      <th>Lat</th>\n",
       "      <th>Lng</th>\n",
       "      <th>Max Temp</th>\n",
       "      <th>Humidity</th>\n",
       "      <th>Cloudiness</th>\n",
       "      <th>Wind Speed</th>\n",
       "    </tr>\n",
       "  </thead>\n",
       "  <tbody>\n",
       "    <tr>\n",
       "      <th>0</th>\n",
       "      <td>Takoradze</td>\n",
       "      <td>GH</td>\n",
       "      <td>1612122438</td>\n",
       "      <td>4.8845</td>\n",
       "      <td>-1.7554</td>\n",
       "      <td>79.83</td>\n",
       "      <td>85</td>\n",
       "      <td>76</td>\n",
       "      <td>11.16</td>\n",
       "    </tr>\n",
       "    <tr>\n",
       "      <th>1</th>\n",
       "      <td>Jamestown</td>\n",
       "      <td>US</td>\n",
       "      <td>1612122409</td>\n",
       "      <td>42.0970</td>\n",
       "      <td>-79.2353</td>\n",
       "      <td>32.00</td>\n",
       "      <td>74</td>\n",
       "      <td>90</td>\n",
       "      <td>12.66</td>\n",
       "    </tr>\n",
       "    <tr>\n",
       "      <th>2</th>\n",
       "      <td>Mumford</td>\n",
       "      <td>GH</td>\n",
       "      <td>1612122208</td>\n",
       "      <td>5.2618</td>\n",
       "      <td>-0.7590</td>\n",
       "      <td>81.05</td>\n",
       "      <td>83</td>\n",
       "      <td>100</td>\n",
       "      <td>12.82</td>\n",
       "    </tr>\n",
       "    <tr>\n",
       "      <th>3</th>\n",
       "      <td>Begoro</td>\n",
       "      <td>GH</td>\n",
       "      <td>1612122461</td>\n",
       "      <td>6.3871</td>\n",
       "      <td>-0.3774</td>\n",
       "      <td>77.90</td>\n",
       "      <td>72</td>\n",
       "      <td>2</td>\n",
       "      <td>5.68</td>\n",
       "    </tr>\n",
       "    <tr>\n",
       "      <th>4</th>\n",
       "      <td>Omboué</td>\n",
       "      <td>GA</td>\n",
       "      <td>1612122442</td>\n",
       "      <td>-1.5746</td>\n",
       "      <td>9.2618</td>\n",
       "      <td>78.40</td>\n",
       "      <td>84</td>\n",
       "      <td>100</td>\n",
       "      <td>3.85</td>\n",
       "    </tr>\n",
       "    <tr>\n",
       "      <th>...</th>\n",
       "      <td>...</td>\n",
       "      <td>...</td>\n",
       "      <td>...</td>\n",
       "      <td>...</td>\n",
       "      <td>...</td>\n",
       "      <td>...</td>\n",
       "      <td>...</td>\n",
       "      <td>...</td>\n",
       "      <td>...</td>\n",
       "    </tr>\n",
       "    <tr>\n",
       "      <th>95</th>\n",
       "      <td>Ayamé</td>\n",
       "      <td>CI</td>\n",
       "      <td>1612122455</td>\n",
       "      <td>5.6083</td>\n",
       "      <td>-3.1563</td>\n",
       "      <td>77.43</td>\n",
       "      <td>86</td>\n",
       "      <td>2</td>\n",
       "      <td>5.97</td>\n",
       "    </tr>\n",
       "    <tr>\n",
       "      <th>96</th>\n",
       "      <td>Daoukro</td>\n",
       "      <td>CI</td>\n",
       "      <td>1612122481</td>\n",
       "      <td>7.0591</td>\n",
       "      <td>-3.9631</td>\n",
       "      <td>83.59</td>\n",
       "      <td>48</td>\n",
       "      <td>16</td>\n",
       "      <td>2.82</td>\n",
       "    </tr>\n",
       "    <tr>\n",
       "      <th>97</th>\n",
       "      <td>Sapele</td>\n",
       "      <td>NG</td>\n",
       "      <td>1612122811</td>\n",
       "      <td>5.8941</td>\n",
       "      <td>5.6767</td>\n",
       "      <td>81.43</td>\n",
       "      <td>73</td>\n",
       "      <td>0</td>\n",
       "      <td>5.91</td>\n",
       "    </tr>\n",
       "    <tr>\n",
       "      <th>98</th>\n",
       "      <td>Abeokuta</td>\n",
       "      <td>NG</td>\n",
       "      <td>1612122482</td>\n",
       "      <td>7.1500</td>\n",
       "      <td>3.3500</td>\n",
       "      <td>84.20</td>\n",
       "      <td>79</td>\n",
       "      <td>20</td>\n",
       "      <td>9.22</td>\n",
       "    </tr>\n",
       "    <tr>\n",
       "      <th>99</th>\n",
       "      <td>Apomu</td>\n",
       "      <td>NG</td>\n",
       "      <td>1612122811</td>\n",
       "      <td>7.3333</td>\n",
       "      <td>4.1833</td>\n",
       "      <td>78.82</td>\n",
       "      <td>74</td>\n",
       "      <td>0</td>\n",
       "      <td>5.64</td>\n",
       "    </tr>\n",
       "  </tbody>\n",
       "</table>\n",
       "<p>100 rows × 9 columns</p>\n",
       "</div>"
      ],
      "text/plain": [
       "         City Country        Date      Lat      Lng  Max Temp  Humidity  \\\n",
       "0   Takoradze      GH  1612122438   4.8845  -1.7554     79.83        85   \n",
       "1   Jamestown      US  1612122409  42.0970 -79.2353     32.00        74   \n",
       "2     Mumford      GH  1612122208   5.2618  -0.7590     81.05        83   \n",
       "3      Begoro      GH  1612122461   6.3871  -0.3774     77.90        72   \n",
       "4      Omboué      GA  1612122442  -1.5746   9.2618     78.40        84   \n",
       "..        ...     ...         ...      ...      ...       ...       ...   \n",
       "95      Ayamé      CI  1612122455   5.6083  -3.1563     77.43        86   \n",
       "96    Daoukro      CI  1612122481   7.0591  -3.9631     83.59        48   \n",
       "97     Sapele      NG  1612122811   5.8941   5.6767     81.43        73   \n",
       "98   Abeokuta      NG  1612122482   7.1500   3.3500     84.20        79   \n",
       "99      Apomu      NG  1612122811   7.3333   4.1833     78.82        74   \n",
       "\n",
       "    Cloudiness  Wind Speed  \n",
       "0           76       11.16  \n",
       "1           90       12.66  \n",
       "2          100       12.82  \n",
       "3            2        5.68  \n",
       "4          100        3.85  \n",
       "..         ...         ...  \n",
       "95           2        5.97  \n",
       "96          16        2.82  \n",
       "97           0        5.91  \n",
       "98          20        9.22  \n",
       "99           0        5.64  \n",
       "\n",
       "[100 rows x 9 columns]"
      ]
     },
     "execution_count": 49,
     "metadata": {},
     "output_type": "execute_result"
    }
   ],
   "source": [
    "city_data_df.head()"
   ]
  },
  {
   "cell_type": "code",
   "execution_count": 50,
   "metadata": {},
   "outputs": [
    {
     "data": {
      "text/plain": [
       "City          142\n",
       "Country       142\n",
       "Date          142\n",
       "Lat           142\n",
       "Lng           142\n",
       "Max Temp      142\n",
       "Humidity      142\n",
       "Cloudiness    142\n",
       "Wind Speed    142\n",
       "dtype: int64"
      ]
     },
     "execution_count": 50,
     "metadata": {},
     "output_type": "execute_result"
    }
   ],
   "source": [
    "city_data_df.count()"
   ]
  },
  {
   "cell_type": "code",
   "execution_count": 51,
   "metadata": {},
   "outputs": [
    {
     "data": {
      "text/plain": [
       "142"
      ]
     },
     "execution_count": 51,
     "metadata": {},
     "output_type": "execute_result"
    }
   ],
   "source": [
    "len(city_data_df)"
   ]
  },
  {
   "cell_type": "code",
   "execution_count": null,
   "metadata": {},
   "outputs": [],
   "source": []
  },
  {
   "cell_type": "markdown",
   "metadata": {},
   "source": [
    "## Inspect the data and remove the cities where the humidity > 100%.\n",
    "----\n",
    "Skip this step if there are no cities that have humidity > 100%. "
   ]
  },
  {
   "cell_type": "code",
   "execution_count": null,
   "metadata": {},
   "outputs": [],
   "source": []
  },
  {
   "cell_type": "code",
   "execution_count": null,
   "metadata": {},
   "outputs": [],
   "source": [
    "#  Get the indices of cities that have humidity over 100%.\n"
   ]
  },
  {
   "cell_type": "code",
   "execution_count": null,
   "metadata": {},
   "outputs": [],
   "source": [
    "# Make a new DataFrame equal to the city data to drop all humidity outliers by index.\n",
    "# Passing \"inplace=False\" will make a copy of the city_data DataFrame, which we call \"clean_city_data\".\n"
   ]
  },
  {
   "cell_type": "code",
   "execution_count": null,
   "metadata": {},
   "outputs": [],
   "source": [
    "\n"
   ]
  },
  {
   "cell_type": "markdown",
   "metadata": {},
   "source": [
    "## Plotting the Data\n",
    "* Use proper labeling of the plots using plot titles (including date of analysis) and axes labels.\n",
    "* Save the plotted figures as .pngs."
   ]
  },
  {
   "cell_type": "markdown",
   "metadata": {},
   "source": [
    "## Latitude vs. Temperature Plot"
   ]
  },
  {
   "cell_type": "code",
   "execution_count": null,
   "metadata": {
    "scrolled": true
   },
   "outputs": [],
   "source": []
  },
  {
   "cell_type": "markdown",
   "metadata": {},
   "source": [
    "## Latitude vs. Humidity Plot"
   ]
  },
  {
   "cell_type": "code",
   "execution_count": null,
   "metadata": {},
   "outputs": [],
   "source": []
  },
  {
   "cell_type": "markdown",
   "metadata": {},
   "source": [
    "## Latitude vs. Cloudiness Plot"
   ]
  },
  {
   "cell_type": "code",
   "execution_count": null,
   "metadata": {},
   "outputs": [],
   "source": []
  },
  {
   "cell_type": "markdown",
   "metadata": {},
   "source": [
    "## Latitude vs. Wind Speed Plot"
   ]
  },
  {
   "cell_type": "code",
   "execution_count": null,
   "metadata": {},
   "outputs": [],
   "source": []
  },
  {
   "cell_type": "markdown",
   "metadata": {},
   "source": [
    "## Linear Regression"
   ]
  },
  {
   "cell_type": "code",
   "execution_count": null,
   "metadata": {},
   "outputs": [],
   "source": []
  },
  {
   "cell_type": "markdown",
   "metadata": {},
   "source": [
    "####  Northern Hemisphere - Max Temp vs. Latitude Linear Regression"
   ]
  },
  {
   "cell_type": "code",
   "execution_count": null,
   "metadata": {},
   "outputs": [],
   "source": []
  },
  {
   "cell_type": "markdown",
   "metadata": {},
   "source": [
    "####  Southern Hemisphere - Max Temp vs. Latitude Linear Regression"
   ]
  },
  {
   "cell_type": "code",
   "execution_count": null,
   "metadata": {},
   "outputs": [],
   "source": []
  },
  {
   "cell_type": "markdown",
   "metadata": {},
   "source": [
    "####  Northern Hemisphere - Humidity (%) vs. Latitude Linear Regression"
   ]
  },
  {
   "cell_type": "code",
   "execution_count": null,
   "metadata": {},
   "outputs": [],
   "source": []
  },
  {
   "cell_type": "markdown",
   "metadata": {},
   "source": [
    "####  Southern Hemisphere - Humidity (%) vs. Latitude Linear Regression"
   ]
  },
  {
   "cell_type": "code",
   "execution_count": null,
   "metadata": {},
   "outputs": [],
   "source": []
  },
  {
   "cell_type": "markdown",
   "metadata": {},
   "source": [
    "####  Northern Hemisphere - Cloudiness (%) vs. Latitude Linear Regression"
   ]
  },
  {
   "cell_type": "code",
   "execution_count": null,
   "metadata": {},
   "outputs": [],
   "source": []
  },
  {
   "cell_type": "markdown",
   "metadata": {},
   "source": [
    "####  Southern Hemisphere - Cloudiness (%) vs. Latitude Linear Regression"
   ]
  },
  {
   "cell_type": "code",
   "execution_count": null,
   "metadata": {},
   "outputs": [],
   "source": []
  },
  {
   "cell_type": "markdown",
   "metadata": {},
   "source": [
    "####  Northern Hemisphere - Wind Speed (mph) vs. Latitude Linear Regression"
   ]
  },
  {
   "cell_type": "code",
   "execution_count": null,
   "metadata": {},
   "outputs": [],
   "source": []
  },
  {
   "cell_type": "markdown",
   "metadata": {},
   "source": [
    "####  Southern Hemisphere - Wind Speed (mph) vs. Latitude Linear Regression"
   ]
  },
  {
   "cell_type": "code",
   "execution_count": null,
   "metadata": {},
   "outputs": [],
   "source": []
  },
  {
   "cell_type": "code",
   "execution_count": null,
   "metadata": {},
   "outputs": [],
   "source": []
  }
 ],
 "metadata": {
  "anaconda-cloud": {},
  "kernel_info": {
   "name": "python3"
  },
  "kernelspec": {
   "display_name": "Python 3",
   "language": "python",
   "name": "python3"
  },
  "language_info": {
   "codemirror_mode": {
    "name": "ipython",
    "version": 3
   },
   "file_extension": ".py",
   "mimetype": "text/x-python",
   "name": "python",
   "nbconvert_exporter": "python",
   "pygments_lexer": "ipython3",
   "version": "3.6.10"
  },
  "latex_envs": {
   "LaTeX_envs_menu_present": true,
   "autoclose": false,
   "autocomplete": true,
   "bibliofile": "biblio.bib",
   "cite_by": "apalike",
   "current_citInitial": 1,
   "eqLabelWithNumbers": true,
   "eqNumInitial": 1,
   "hotkeys": {
    "equation": "Ctrl-E",
    "itemize": "Ctrl-I"
   },
   "labels_anchors": false,
   "latex_user_defs": false,
   "report_style_numbering": false,
   "user_envs_cfg": false
  },
  "nteract": {
   "version": "0.12.3"
  }
 },
 "nbformat": 4,
 "nbformat_minor": 2
}
