{
 "cells": [
  {
   "cell_type": "markdown",
   "metadata": {},
   "source": [
    "# WeatherPy\n",
    "----\n",
    "\n",
    "#### Note\n",
    "* Instructions have been included for each segment. You do not have to follow them exactly, but they are included to help you think through the steps."
   ]
  },
  {
   "cell_type": "code",
   "execution_count": 1,
   "metadata": {
    "scrolled": true
   },
   "outputs": [],
   "source": [
    "# Dependencies and Setup\n",
    "import matplotlib.pyplot as plt\n",
    "import pandas as pd\n",
    "import numpy as np\n",
    "import requests\n",
    "import time\n",
    "import scipy.stats as st\n",
    "from scipy.stats import linregress\n",
    "#from sklearn import datasets\n",
    "\n",
    "\n",
    "\n",
    "# Import API key\n",
    "from api_keys import weather_api_key\n",
    "\n",
    "# Incorporated citipy to determine city based on latitude and longitude\n",
    "from citipy import citipy\n",
    "\n",
    "# Output File (CSV)\n",
    "output_data_file = (\"../3_output_data/output_data/cities.csv\")\n",
    "\n",
    "# Range of latitudes and longitudes\n",
    "lat_range = (-90, 90)\n",
    "lng_range = (-180, 180)"
   ]
  },
  {
   "cell_type": "markdown",
   "metadata": {},
   "source": [
    "## Generate Cities List"
   ]
  },
  {
   "cell_type": "code",
   "execution_count": 2,
   "metadata": {},
   "outputs": [
    {
     "data": {
      "text/plain": [
       "636"
      ]
     },
     "execution_count": 2,
     "metadata": {},
     "output_type": "execute_result"
    }
   ],
   "source": [
    "# List for holding lat_lngs and cities\n",
    "lat_lngs = []\n",
    "cities = []\n",
    "\n",
    "# Create a set of random lat and lng combinations\n",
    "lats = np.random.uniform(lat_range[0], lat_range[1], size=1500)\n",
    "lngs = np.random.uniform(lng_range[0], lng_range[1], size=1500)\n",
    "lat_lngs = zip(lats, lngs)\n",
    "\n",
    "# Identify nearest city for each lat, lng combination\n",
    "for lat_lng in lat_lngs:\n",
    "    city = citipy.nearest_city(lat_lng[0], lat_lng[1]).city_name\n",
    "   \n",
    "    # If the city is unique, then add it to a our cities list\n",
    "    if city not in cities:\n",
    "        cities.append(city)\n",
    "\n",
    "# Print the city count to confirm sufficient count\n",
    "len(cities)"
   ]
  },
  {
   "cell_type": "markdown",
   "metadata": {},
   "source": [
    "### Perform API Calls\n",
    "* Perform a weather check on each city using a series of successive API calls.\n",
    "* Include a print log of each city as it'sbeing processed (with the city number and city name).\n"
   ]
  },
  {
   "cell_type": "code",
   "execution_count": 3,
   "metadata": {
    "scrolled": true
   },
   "outputs": [
    {
     "name": "stdout",
     "output_type": "stream",
     "text": [
      "http://api.openweathermap.org/data/2.5/weather?appid=03807ab851ea52cddd7b52d74fcab014&units=imperial&q=\n"
     ]
    }
   ],
   "source": [
    "url = \"http://api.openweathermap.org/data/2.5/weather?\"\n",
    "\n",
    "unit = \"imperial\"\n",
    "\n",
    "query_url = url + \"appid=\" + weather_api_key + \"&units=\" + unit + \"&q=\"\n",
    "\n",
    "print(query_url)\n",
    "\n"
   ]
  },
  {
   "cell_type": "code",
   "execution_count": 4,
   "metadata": {
    "scrolled": true
   },
   "outputs": [
    {
     "name": "stdout",
     "output_type": "stream",
     "text": [
      "\n",
      "-----------------------------\n",
      "Data Retrieval Begin\n",
      "-----------------------------\n",
      "\n",
      "Processing record 1 of set 1 | karakol.\n",
      "Processing record 2 of set 1 | darhan.\n",
      "Processing record 3 of set 1 | sassandra.\n",
      "Processing record 4 of set 1 | rantepao.\n",
      "Processing record 5 of set 1 | jamestown.\n",
      "Processing record 6 of set 1 | atuona.\n",
      "Processing record 7 of set 1 | lamballe.\n",
      "Processing record 8 of set 1 | faanui.\n",
      "Processing record 9 of set 1 | cidreira.\n",
      "Processing record 10 of set 1 | phibun mangsahan.\n",
      "Processing record 11 of set 1 | husavik.\n",
      "Processing record 12 of set 1 | bathsheba.\n",
      "Processing record 13 of set 1 | otukpo.\n",
      "Processing record 14 of set 1 | vaini.\n",
      "Processing record 15 of set 1 | gunjur.\n",
      "Processing record 16 of set 1 | mulege.\n",
      "Processing record 17 of set 1 | neftegorsk.\n",
      "Processing record 18 of set 1 | umm lajj.\n",
      "Processing record 19 of set 1 | upernavik.\n",
      "Processing record 20 of set 1 | yellowknife.\n",
      "Processing record 21 of set 1 | copiapo.\n",
      "Processing record 22 of set 1 | waipawa.\n",
      "not found\n",
      "Processing record 23 of set 1 | vila franca do campo.\n",
      "Processing record 24 of set 1 | bredasdorp.\n",
      "Processing record 25 of set 1 | punta arenas.\n",
      "Processing record 26 of set 1 | ushuaia.\n",
      "Processing record 27 of set 1 | chokurdakh.\n",
      "Processing record 28 of set 1 | tshela.\n",
      "Processing record 29 of set 1 | hithadhoo.\n",
      "not found\n",
      "Processing record 30 of set 1 | atar.\n",
      "Processing record 31 of set 1 | saskylakh.\n",
      "Processing record 32 of set 1 | saint-augustin.\n",
      "Processing record 33 of set 1 | qaanaaq.\n",
      "Processing record 34 of set 1 | kaitangata.\n",
      "Processing record 35 of set 1 | torbay.\n",
      "Processing record 36 of set 1 | pisco.\n",
      "not found\n",
      "Processing record 37 of set 1 | tiksi.\n",
      "Processing record 38 of set 1 | hilo.\n",
      "not found\n",
      "Processing record 39 of set 1 | vardo.\n",
      "Processing record 40 of set 1 | hovd.\n",
      "not found\n",
      "Processing record 41 of set 1 | avarua.\n",
      "Processing record 42 of set 1 | rikitea.\n",
      "Processing record 43 of set 1 | kodiak.\n",
      "Processing record 44 of set 1 | kenai.\n",
      "Processing record 45 of set 1 | provideniya.\n",
      "Processing record 46 of set 1 | thompson.\n",
      "Processing record 47 of set 1 | nanortalik.\n",
      "Processing record 48 of set 1 | otuzco.\n",
      "Processing record 49 of set 1 | burns lake.\n",
      "Processing record 50 of set 1 | busselton.\n",
      "Processing record 1 of set 2 | port alfred.\n",
      "Processing record 2 of set 2 | vila velha.\n",
      "Processing record 3 of set 2 | mount gambier.\n",
      "Processing record 4 of set 2 | nikolskoye.\n",
      "Processing record 5 of set 2 | ostrovnoy.\n",
      "Processing record 6 of set 2 | jiangyou.\n",
      "Processing record 7 of set 2 | chuy.\n",
      "Processing record 8 of set 2 | bengkulu.\n",
      "Processing record 9 of set 2 | yarada.\n",
      "not found\n",
      "Processing record 10 of set 2 | grindavik.\n",
      "Processing record 11 of set 2 | cape town.\n",
      "not found\n",
      "Processing record 12 of set 2 | kawalu.\n",
      "Processing record 13 of set 2 | ribeira grande.\n",
      "Processing record 14 of set 2 | sakakah.\n",
      "Processing record 15 of set 2 | ushumun.\n",
      "not found\n",
      "Processing record 16 of set 2 | bluff.\n",
      "Processing record 17 of set 2 | port moresby.\n",
      "Processing record 18 of set 2 | butaritari.\n",
      "Processing record 19 of set 2 | grand gaube.\n",
      "not found\n",
      "Processing record 20 of set 2 | castro.\n",
      "Processing record 21 of set 2 | tocopilla.\n",
      "Processing record 22 of set 2 | albany.\n",
      "not found\n",
      "Processing record 23 of set 2 | dikson.\n",
      "Processing record 24 of set 2 | tyret pervaya.\n",
      "Processing record 25 of set 2 | port elizabeth.\n",
      "Processing record 26 of set 2 | mataura.\n",
      "Processing record 27 of set 2 | vestmannaeyjar.\n",
      "Processing record 28 of set 2 | paita.\n",
      "Processing record 29 of set 2 | caconda.\n",
      "Processing record 30 of set 2 | bilma.\n",
      "Processing record 31 of set 2 | kidal.\n",
      "Processing record 32 of set 2 | broome.\n",
      "Processing record 33 of set 2 | vao.\n",
      "Processing record 34 of set 2 | ixtapa.\n",
      "Processing record 35 of set 2 | yafran.\n",
      "Processing record 36 of set 2 | hobart.\n",
      "Processing record 37 of set 2 | puerto escondido.\n",
      "Processing record 38 of set 2 | longyearbyen.\n",
      "Processing record 39 of set 2 | lieksa.\n",
      "Processing record 40 of set 2 | meulaboh.\n",
      "not found\n",
      "Processing record 41 of set 2 | sokoni.\n",
      "Processing record 42 of set 2 | arraial do cabo.\n",
      "Processing record 43 of set 2 | san gabriel.\n",
      "Processing record 44 of set 2 | kaeo.\n",
      "Processing record 45 of set 2 | pevek.\n",
      "Processing record 46 of set 2 | acapulco.\n",
      "Processing record 47 of set 2 | caravelas.\n",
      "Processing record 48 of set 2 | vagay.\n",
      "Processing record 49 of set 2 | fairbanks.\n",
      "Processing record 50 of set 2 | saint-philippe.\n",
      "Processing record 1 of set 3 | santa cruz.\n",
      "not found\n",
      "Processing record 2 of set 3 | sisimiut.\n",
      "Processing record 3 of set 3 | dalby.\n",
      "Processing record 4 of set 3 | pontianak.\n",
      "Processing record 5 of set 3 | la asuncion.\n",
      "Processing record 6 of set 3 | kuytun.\n",
      "Processing record 7 of set 3 | santa cruz de tenerife.\n",
      "not found\n",
      "Processing record 8 of set 3 | prince rupert.\n",
      "Processing record 9 of set 3 | hermanus.\n",
      "Processing record 10 of set 3 | itoman.\n",
      "Processing record 11 of set 3 | lebu.\n",
      "not found\n",
      "Processing record 12 of set 3 | georgetown.\n",
      "Processing record 13 of set 3 | minab.\n",
      "Processing record 14 of set 3 | mtwara.\n",
      "Processing record 15 of set 3 | nadadores.\n",
      "Processing record 16 of set 3 | te anau.\n",
      "Processing record 17 of set 3 | byron bay.\n",
      "Processing record 18 of set 3 | airai.\n",
      "Processing record 19 of set 3 | avera.\n",
      "Processing record 20 of set 3 | ostersund.\n",
      "not found\n",
      "Processing record 21 of set 3 | khatanga.\n",
      "Processing record 22 of set 3 | conceicao do araguaia.\n",
      "Processing record 23 of set 3 | sinnamary.\n",
      "Processing record 24 of set 3 | gusau.\n",
      "Processing record 25 of set 3 | severo-kurilsk.\n",
      "Processing record 26 of set 3 | carnarvon.\n",
      "Processing record 27 of set 3 | pangnirtung.\n",
      "Processing record 28 of set 3 | puerto ayora.\n",
      "not found\n",
      "Processing record 29 of set 3 | kununurra.\n",
      "Processing record 30 of set 3 | samarai.\n",
      "Processing record 31 of set 3 | namibe.\n",
      "Processing record 32 of set 3 | yenagoa.\n",
      "Processing record 33 of set 3 | kruisfontein.\n",
      "Processing record 34 of set 3 | nosy varika.\n",
      "Processing record 35 of set 3 | ulaanbaatar.\n",
      "not found\n",
      "Processing record 36 of set 3 | shenzhen.\n",
      "Processing record 37 of set 3 | cockburn town.\n",
      "Processing record 38 of set 3 | sarangani.\n",
      "Processing record 39 of set 3 | la grande.\n",
      "Processing record 40 of set 3 | baykit.\n",
      "Processing record 41 of set 3 | santiago de cuba.\n",
      "Processing record 42 of set 3 | kloulklubed.\n",
      "Processing record 43 of set 3 | samfya.\n",
      "Processing record 44 of set 3 | mildura.\n",
      "Processing record 45 of set 3 | isangel.\n",
      "Processing record 46 of set 3 | bandarbeyla.\n",
      "Processing record 47 of set 3 | faya.\n",
      "Processing record 48 of set 3 | tupik.\n",
      "Processing record 49 of set 3 | hamilton.\n",
      "Processing record 50 of set 3 | maumere.\n",
      "Processing record 1 of set 4 | khorixas.\n",
      "Processing record 2 of set 4 | urumqi.\n",
      "Processing record 3 of set 4 | odienne.\n",
      "Processing record 4 of set 4 | kavaratti.\n",
      "Processing record 5 of set 4 | port lincoln.\n",
      "not found\n",
      "Processing record 6 of set 4 | george town.\n",
      "Processing record 7 of set 4 | buena vista.\n",
      "Processing record 8 of set 4 | bambous virieux.\n",
      "not found\n",
      "Processing record 9 of set 4 | norman wells.\n",
      "Processing record 10 of set 4 | kamenka.\n",
      "Processing record 11 of set 4 | new norfolk.\n",
      "Processing record 12 of set 4 | itarema.\n",
      "Processing record 13 of set 4 | talnakh.\n",
      "Processing record 14 of set 4 | leningradskiy.\n",
      "Processing record 15 of set 4 | east london.\n",
      "Processing record 16 of set 4 | ancud.\n",
      "Processing record 17 of set 4 | santa luzia.\n",
      "Processing record 18 of set 4 | ipora.\n",
      "not found\n",
      "Processing record 19 of set 4 | erdenet.\n",
      "Processing record 20 of set 4 | lamu.\n",
      "Processing record 21 of set 4 | fortuna.\n",
      "Processing record 22 of set 4 | yakima.\n",
      "not found\n",
      "Processing record 23 of set 4 | chapais.\n",
      "not found\n",
      "Processing record 24 of set 4 | asau.\n",
      "Processing record 25 of set 4 | souillac.\n",
      "Processing record 26 of set 4 | jieshi.\n",
      "Processing record 27 of set 4 | jatai.\n",
      "Processing record 28 of set 4 | northam.\n",
      "Processing record 29 of set 4 | ust-kulom.\n",
      "Processing record 30 of set 4 | morrisburg.\n",
      "Processing record 31 of set 4 | amapa.\n",
      "Processing record 32 of set 4 | kroonstad.\n",
      "Processing record 33 of set 4 | bethel.\n",
      "Processing record 34 of set 4 | qiyang.\n",
      "Processing record 35 of set 4 | sao filipe.\n",
      "Processing record 36 of set 4 | san borja.\n",
      "Processing record 37 of set 4 | rhyl.\n",
      "Processing record 38 of set 4 | aksu.\n",
      "Processing record 39 of set 4 | coquimbo.\n"
     ]
    },
    {
     "name": "stdout",
     "output_type": "stream",
     "text": [
      "not found\n",
      "Processing record 40 of set 4 | arman.\n",
      "not found\n",
      "Processing record 41 of set 4 | praia.\n",
      "Processing record 42 of set 4 | voh.\n",
      "Processing record 43 of set 4 | da nang.\n",
      "Processing record 44 of set 4 | namatanai.\n",
      "Processing record 45 of set 4 | sayat.\n",
      "Processing record 46 of set 4 | hami.\n",
      "Processing record 47 of set 4 | oyama.\n",
      "Processing record 48 of set 4 | korla.\n",
      "Processing record 49 of set 4 | kulu.\n",
      "Processing record 50 of set 4 | bubaque.\n",
      "Processing record 1 of set 5 | pandharpur.\n",
      "Processing record 2 of set 5 | sigli.\n",
      "not found\n",
      "Processing record 3 of set 5 | koumac.\n",
      "Processing record 4 of set 5 | lima.\n",
      "Processing record 5 of set 5 | berlevag.\n",
      "Processing record 6 of set 5 | valley city.\n",
      "not found\n",
      "Processing record 7 of set 5 | kapaa.\n",
      "Processing record 8 of set 5 | san-pedro.\n",
      "Processing record 9 of set 5 | mendi.\n",
      "Processing record 10 of set 5 | novobirilyussy.\n",
      "Processing record 11 of set 5 | tuktoyaktuk.\n",
      "Processing record 12 of set 5 | la union.\n",
      "Processing record 13 of set 5 | cabo san lucas.\n",
      "Processing record 14 of set 5 | victoria.\n",
      "Processing record 15 of set 5 | vostok.\n",
      "Processing record 16 of set 5 | fort nelson.\n",
      "Processing record 17 of set 5 | severiano melo.\n",
      "Processing record 18 of set 5 | panaba.\n",
      "Processing record 19 of set 5 | katsuura.\n",
      "not found\n",
      "not found\n",
      "not found\n",
      "Processing record 20 of set 5 | marawi.\n",
      "Processing record 21 of set 5 | barrow.\n",
      "Processing record 22 of set 5 | rudnyy.\n",
      "Processing record 23 of set 5 | fermoy.\n",
      "Processing record 24 of set 5 | pokhara.\n",
      "Processing record 25 of set 5 | marienburg.\n",
      "Processing record 26 of set 5 | salisbury.\n",
      "Processing record 27 of set 5 | trelew.\n",
      "Processing record 28 of set 5 | tura.\n",
      "Processing record 29 of set 5 | fonte boa.\n",
      "Processing record 30 of set 5 | sept-iles.\n",
      "Processing record 31 of set 5 | mufumbwe.\n",
      "Processing record 32 of set 5 | cherskiy.\n",
      "Processing record 33 of set 5 | hambantota.\n",
      "Processing record 34 of set 5 | sao joao da barra.\n",
      "Processing record 35 of set 5 | lata.\n",
      "Processing record 36 of set 5 | hasaki.\n",
      "Processing record 37 of set 5 | khani.\n",
      "Processing record 38 of set 5 | shingu.\n",
      "Processing record 39 of set 5 | keti bandar.\n",
      "not found\n",
      "not found\n",
      "Processing record 40 of set 5 | jesenice.\n",
      "Processing record 41 of set 5 | mto wa mbu.\n",
      "Processing record 42 of set 5 | kutum.\n",
      "Processing record 43 of set 5 | makakilo city.\n",
      "Processing record 44 of set 5 | mormugao.\n",
      "Processing record 45 of set 5 | yumen.\n",
      "Processing record 46 of set 5 | mar del plata.\n",
      "Processing record 47 of set 5 | kahului.\n",
      "Processing record 48 of set 5 | eureka.\n",
      "Processing record 49 of set 5 | tasiilaq.\n",
      "not found\n",
      "Processing record 50 of set 5 | banjar.\n",
      "Processing record 1 of set 6 | luwuk.\n",
      "Processing record 2 of set 6 | natal.\n",
      "Processing record 3 of set 6 | hermiston.\n",
      "not found\n",
      "Processing record 4 of set 6 | mansa.\n",
      "Processing record 5 of set 6 | payson.\n",
      "Processing record 6 of set 6 | saint george.\n",
      "Processing record 7 of set 6 | methoni.\n",
      "Processing record 8 of set 6 | kemijarvi.\n",
      "Processing record 9 of set 6 | alofi.\n",
      "Processing record 10 of set 6 | port hedland.\n",
      "Processing record 11 of set 6 | inuvik.\n",
      "not found\n",
      "Processing record 12 of set 6 | egvekinot.\n",
      "Processing record 13 of set 6 | mapiripan.\n",
      "Processing record 14 of set 6 | reconquista.\n",
      "not found\n",
      "Processing record 15 of set 6 | san cristobal.\n",
      "Processing record 16 of set 6 | san blas.\n",
      "Processing record 17 of set 6 | harper.\n",
      "Processing record 18 of set 6 | zuwarah.\n",
      "Processing record 19 of set 6 | san ramon.\n",
      "Processing record 20 of set 6 | klaksvik.\n",
      "Processing record 21 of set 6 | rovaniemi.\n",
      "Processing record 22 of set 6 | mont-dore.\n",
      "Processing record 23 of set 6 | mirnyy.\n",
      "Processing record 24 of set 6 | tomas oppus.\n",
      "not found\n",
      "not found\n",
      "Processing record 25 of set 6 | half moon bay.\n",
      "Processing record 26 of set 6 | bluefields.\n",
      "Processing record 27 of set 6 | morant bay.\n",
      "Processing record 28 of set 6 | dingle.\n",
      "Processing record 29 of set 6 | comodoro rivadavia.\n",
      "Processing record 30 of set 6 | ban phaeo.\n",
      "Processing record 31 of set 6 | santa fe.\n",
      "Processing record 32 of set 6 | severo-yeniseyskiy.\n",
      "Processing record 33 of set 6 | ponta do sol.\n",
      "not found\n",
      "not found\n",
      "not found\n",
      "Processing record 34 of set 6 | macon.\n",
      "Processing record 35 of set 6 | pascagoula.\n",
      "Processing record 36 of set 6 | saint-joseph.\n",
      "Processing record 37 of set 6 | pangai.\n",
      "Processing record 38 of set 6 | vestmanna.\n",
      "Processing record 39 of set 6 | naryan-mar.\n",
      "not found\n",
      "Processing record 40 of set 6 | norfolk.\n",
      "Processing record 41 of set 6 | itapeva.\n",
      "Processing record 42 of set 6 | shimoda.\n",
      "Processing record 43 of set 6 | lewistown.\n",
      "Processing record 44 of set 6 | constitucion.\n",
      "Processing record 45 of set 6 | ust-kut.\n",
      "Processing record 46 of set 6 | iqaluit.\n",
      "Processing record 47 of set 6 | atambua.\n",
      "Processing record 48 of set 6 | mahebourg.\n",
      "Processing record 49 of set 6 | buchanan.\n",
      "Processing record 50 of set 6 | port hardy.\n",
      "Processing record 1 of set 7 | luau.\n",
      "Processing record 2 of set 7 | kirakira.\n",
      "Processing record 3 of set 7 | muscatine.\n",
      "Processing record 4 of set 7 | north bend.\n",
      "Processing record 5 of set 7 | turochak.\n",
      "Processing record 6 of set 7 | verkhnevilyuysk.\n",
      "Processing record 7 of set 7 | cabatuan.\n",
      "Processing record 8 of set 7 | veraval.\n",
      "Processing record 9 of set 7 | karratha.\n",
      "not found\n",
      "Processing record 10 of set 7 | seoul.\n",
      "Processing record 11 of set 7 | solnechnyy.\n",
      "Processing record 12 of set 7 | mitu.\n",
      "Processing record 13 of set 7 | tabuk.\n",
      "Processing record 14 of set 7 | puerto colombia.\n",
      "Processing record 15 of set 7 | piacabucu.\n",
      "Processing record 16 of set 7 | ilhabela.\n",
      "Processing record 17 of set 7 | aberdeen.\n",
      "Processing record 18 of set 7 | deputatskiy.\n",
      "Processing record 19 of set 7 | lanzhou.\n",
      "Processing record 20 of set 7 | florianopolis.\n",
      "Processing record 21 of set 7 | xuanwu.\n",
      "Processing record 22 of set 7 | udachnyy.\n",
      "Processing record 23 of set 7 | plettenberg bay.\n",
      "Processing record 24 of set 7 | fuyu.\n",
      "Processing record 25 of set 7 | morro bay.\n",
      "Processing record 26 of set 7 | lixourion.\n",
      "not found\n",
      "Processing record 27 of set 7 | naples.\n",
      "Processing record 28 of set 7 | nagapattinam.\n",
      "Processing record 29 of set 7 | okhotsk.\n",
      "Processing record 30 of set 7 | herat.\n",
      "Processing record 31 of set 7 | araouane.\n",
      "Processing record 32 of set 7 | ambon.\n",
      "Processing record 33 of set 7 | ca mau.\n",
      "Processing record 34 of set 7 | sambava.\n",
      "Processing record 35 of set 7 | ballina.\n",
      "not found\n",
      "Processing record 36 of set 7 | ikom.\n",
      "Processing record 37 of set 7 | alice springs.\n",
      "Processing record 38 of set 7 | sungairaya.\n",
      "Processing record 39 of set 7 | ginda.\n",
      "Processing record 40 of set 7 | tarauaca.\n",
      "Processing record 41 of set 7 | tuatapere.\n",
      "Processing record 42 of set 7 | hakkari.\n",
      "Processing record 43 of set 7 | bulgan.\n",
      "Processing record 44 of set 7 | kudahuvadhoo.\n",
      "Processing record 45 of set 7 | galle.\n",
      "Processing record 46 of set 7 | fort dodge.\n",
      "Processing record 47 of set 7 | vieques.\n",
      "Processing record 48 of set 7 | boende.\n",
      "Processing record 49 of set 7 | usevya.\n",
      "Processing record 50 of set 7 | tautira.\n",
      "Processing record 1 of set 8 | ahipara.\n",
      "Processing record 2 of set 8 | hay river.\n",
      "Processing record 3 of set 8 | uige.\n",
      "Processing record 4 of set 8 | bondo.\n",
      "not found\n",
      "Processing record 5 of set 8 | hibbing.\n",
      "Processing record 6 of set 8 | lilienthal.\n",
      "Processing record 7 of set 8 | aklavik.\n",
      "Processing record 8 of set 8 | labuhan.\n",
      "Processing record 9 of set 8 | tamsweg.\n",
      "Processing record 10 of set 8 | palana.\n",
      "Processing record 11 of set 8 | joensuu.\n",
      "Processing record 12 of set 8 | birao.\n",
      "Processing record 13 of set 8 | clyde river.\n",
      "Processing record 14 of set 8 | russell.\n",
      "Processing record 15 of set 8 | lavrentiya.\n",
      "not found\n",
      "Processing record 16 of set 8 | saint-francois.\n",
      "Processing record 17 of set 8 | umm kaddadah.\n",
      "Processing record 18 of set 8 | sitka.\n",
      "Processing record 19 of set 8 | road town.\n",
      "Processing record 20 of set 8 | sabang.\n",
      "Processing record 21 of set 8 | lydenburg.\n",
      "Processing record 22 of set 8 | farnham.\n",
      "Processing record 23 of set 8 | pontes e lacerda.\n",
      "Processing record 24 of set 8 | karasjok.\n",
      "Processing record 25 of set 8 | barguzin.\n",
      "Processing record 26 of set 8 | alenquer.\n",
      "Processing record 27 of set 8 | mehran.\n",
      "Processing record 28 of set 8 | victor harbor.\n",
      "Processing record 29 of set 8 | rawson.\n"
     ]
    },
    {
     "name": "stdout",
     "output_type": "stream",
     "text": [
      "Processing record 30 of set 8 | haapiti.\n",
      "Processing record 31 of set 8 | plouzane.\n",
      "Processing record 32 of set 8 | coihaique.\n",
      "Processing record 33 of set 8 | beni suef.\n",
      "Processing record 34 of set 8 | porto novo.\n",
      "Processing record 35 of set 8 | mnogovershinnyy.\n",
      "Processing record 36 of set 8 | macau.\n",
      "Processing record 37 of set 8 | napasar.\n",
      "Processing record 38 of set 8 | sayyan.\n",
      "Processing record 39 of set 8 | buenos aires.\n",
      "Processing record 40 of set 8 | bambanglipuro.\n",
      "Processing record 41 of set 8 | san patricio.\n",
      "Processing record 42 of set 8 | lompoc.\n",
      "Processing record 43 of set 8 | sao jose da coroa grande.\n",
      "Processing record 44 of set 8 | lorengau.\n",
      "Processing record 45 of set 8 | aykhal.\n",
      "Processing record 46 of set 8 | san rafael.\n",
      "Processing record 47 of set 8 | cabo rojo.\n",
      "Processing record 48 of set 8 | punta alta.\n",
      "Processing record 49 of set 8 | sibu.\n",
      "Processing record 50 of set 8 | portland.\n",
      "Processing record 1 of set 9 | saint anthony.\n",
      "Processing record 2 of set 9 | honiara.\n",
      "not found\n",
      "Processing record 3 of set 9 | sakaiminato.\n",
      "Processing record 4 of set 9 | carballo.\n",
      "Processing record 5 of set 9 | caxito.\n",
      "Processing record 6 of set 9 | dali.\n",
      "Processing record 7 of set 9 | pathein.\n",
      "Processing record 8 of set 9 | estevan.\n",
      "Processing record 9 of set 9 | fare.\n",
      "Processing record 10 of set 9 | nouadhibou.\n",
      "Processing record 11 of set 9 | voineasa.\n",
      "Processing record 12 of set 9 | yatou.\n",
      "Processing record 13 of set 9 | carpinteria.\n",
      "Processing record 14 of set 9 | leshukonskoye.\n",
      "Processing record 15 of set 9 | brasilia de minas.\n",
      "Processing record 16 of set 9 | kasulu.\n",
      "Processing record 17 of set 9 | dehloran.\n",
      "Processing record 18 of set 9 | saldanha.\n",
      "Processing record 19 of set 9 | huarmey.\n",
      "Processing record 20 of set 9 | jalu.\n",
      "Processing record 21 of set 9 | loiza.\n",
      "not found\n",
      "Processing record 22 of set 9 | buzim.\n",
      "Processing record 23 of set 9 | baruun-urt.\n",
      "Processing record 24 of set 9 | westport.\n",
      "Processing record 25 of set 9 | tarko-sale.\n",
      "Processing record 26 of set 9 | esperance.\n",
      "Processing record 27 of set 9 | anadyr.\n",
      "Processing record 28 of set 9 | rajapur.\n",
      "Processing record 29 of set 9 | whitecourt.\n",
      "Processing record 30 of set 9 | marfino.\n",
      "Processing record 31 of set 9 | kijang.\n",
      "Processing record 32 of set 9 | nagornyy.\n",
      "Processing record 33 of set 9 | los llanos de aridane.\n",
      "not found\n",
      "Processing record 34 of set 9 | port macquarie.\n",
      "Processing record 35 of set 9 | asyut.\n",
      "Processing record 36 of set 9 | hakodate.\n",
      "Processing record 37 of set 9 | luderitz.\n",
      "Processing record 38 of set 9 | araguacu.\n",
      "Processing record 39 of set 9 | lahad datu.\n",
      "Processing record 40 of set 9 | skjervoy.\n",
      "Processing record 41 of set 9 | campoverde.\n",
      "Processing record 42 of set 9 | tumaco.\n",
      "not found\n",
      "Processing record 43 of set 9 | san jose.\n",
      "Processing record 44 of set 9 | geraldton.\n",
      "Processing record 45 of set 9 | komsomolskiy.\n",
      "Processing record 46 of set 9 | hofn.\n",
      "Processing record 47 of set 9 | coahuayana.\n",
      "Processing record 48 of set 9 | oranjemund.\n",
      "Processing record 49 of set 9 | mukhen.\n",
      "Processing record 50 of set 9 | baie-comeau.\n",
      "Processing record 1 of set 10 | dergachi.\n",
      "Processing record 2 of set 10 | ambur.\n",
      "Processing record 3 of set 10 | floreffe.\n",
      "Processing record 4 of set 10 | gaomi.\n",
      "Processing record 5 of set 10 | odweyne.\n",
      "Processing record 6 of set 10 | rapid city.\n",
      "Processing record 7 of set 10 | golden.\n",
      "Processing record 8 of set 10 | tsagan aman.\n",
      "Processing record 9 of set 10 | nome.\n",
      "Processing record 10 of set 10 | ilulissat.\n",
      "Processing record 11 of set 10 | grao mogol.\n",
      "Processing record 12 of set 10 | raymondville.\n",
      "Processing record 13 of set 10 | panguipulli.\n",
      "Processing record 14 of set 10 | tuy hoa.\n",
      "Processing record 15 of set 10 | cap malheureux.\n",
      "Processing record 16 of set 10 | linjiang.\n",
      "Processing record 17 of set 10 | yabelo.\n",
      "Processing record 18 of set 10 | manresa.\n",
      "Processing record 19 of set 10 | beringovskiy.\n",
      "Processing record 20 of set 10 | port blair.\n",
      "Processing record 21 of set 10 | laguna.\n",
      "Processing record 22 of set 10 | athabasca.\n",
      "Processing record 23 of set 10 | muros.\n",
      "Processing record 24 of set 10 | xinzhou.\n",
      "Processing record 25 of set 10 | rubiataba.\n",
      "Processing record 26 of set 10 | douglas.\n",
      "Processing record 27 of set 10 | dubai.\n",
      "not found\n",
      "Processing record 28 of set 10 | hagere hiywet.\n",
      "Processing record 29 of set 10 | fukuma.\n",
      "Processing record 30 of set 10 | verkhoyansk.\n",
      "Processing record 31 of set 10 | bolivar.\n",
      "Processing record 32 of set 10 | strezhevoy.\n",
      "Processing record 33 of set 10 | pavlogradka.\n",
      "Processing record 34 of set 10 | bulawayo.\n",
      "Processing record 35 of set 10 | naze.\n",
      "Processing record 36 of set 10 | vallenar.\n",
      "Processing record 37 of set 10 | castlebar.\n",
      "Processing record 38 of set 10 | mananara.\n",
      "Processing record 39 of set 10 | turukhansk.\n",
      "Processing record 40 of set 10 | filimonovo.\n",
      "Processing record 41 of set 10 | almeirim.\n",
      "Processing record 42 of set 10 | fethiye.\n",
      "Processing record 43 of set 10 | slave lake.\n",
      "Processing record 44 of set 10 | los aquijes.\n",
      "Processing record 45 of set 10 | lowestoft.\n",
      "Processing record 46 of set 10 | cajati.\n",
      "Processing record 47 of set 10 | ilula.\n",
      "Processing record 48 of set 10 | richards bay.\n",
      "Processing record 49 of set 10 | warwick.\n",
      "Processing record 50 of set 10 | port angeles.\n",
      "Processing record 1 of set 11 | chistoye.\n",
      "not found\n",
      "Processing record 2 of set 11 | buluang.\n",
      "Processing record 3 of set 11 | srandakan.\n",
      "not found\n",
      "Processing record 4 of set 11 | sao francisco.\n",
      "Processing record 5 of set 11 | tessalit.\n",
      "Processing record 6 of set 11 | margate.\n",
      "Processing record 7 of set 11 | manchester.\n",
      "not found\n",
      "not found\n",
      "not found\n",
      "Processing record 8 of set 11 | safaga.\n",
      "Processing record 9 of set 11 | creel.\n",
      "Processing record 10 of set 11 | kokopo.\n",
      "Processing record 11 of set 11 | uspenka.\n",
      "Processing record 12 of set 11 | pike creek.\n",
      "not found\n",
      "Processing record 13 of set 11 | batagay.\n",
      "Processing record 14 of set 11 | salalah.\n",
      "Processing record 15 of set 11 | pocatello.\n",
      "Processing record 16 of set 11 | maningrida.\n",
      "Processing record 17 of set 11 | alexandria.\n",
      "Processing record 18 of set 11 | sao felix do xingu.\n",
      "Processing record 19 of set 11 | samarinda.\n",
      "Processing record 20 of set 11 | vila.\n",
      "Processing record 21 of set 11 | rundu.\n",
      "Processing record 22 of set 11 | moissala.\n",
      "Processing record 23 of set 11 | charlestown.\n",
      "not found\n",
      "Processing record 24 of set 11 | kailua.\n",
      "Processing record 25 of set 11 | touros.\n",
      "Processing record 26 of set 11 | otjiwarongo.\n",
      "Processing record 27 of set 11 | konevo.\n",
      "Processing record 28 of set 11 | ust-uda.\n",
      "Processing record 29 of set 11 | douentza.\n",
      "Processing record 30 of set 11 | gazojak.\n",
      "Processing record 31 of set 11 | qui nhon.\n",
      "Processing record 32 of set 11 | rocha.\n",
      "Processing record 33 of set 11 | kyra.\n",
      "Processing record 34 of set 11 | kurumkan.\n",
      "Processing record 35 of set 11 | dalvik.\n",
      "Processing record 36 of set 11 | atherton.\n",
      "Processing record 37 of set 11 | sorland.\n",
      "Processing record 38 of set 11 | guerrero negro.\n",
      "Processing record 39 of set 11 | kirovskiy.\n",
      "Processing record 40 of set 11 | antofagasta.\n",
      "Processing record 41 of set 11 | kashin.\n",
      "Processing record 42 of set 11 | ornskoldsvik.\n",
      "Processing record 43 of set 11 | yangjiang.\n",
      "Processing record 44 of set 11 | padang.\n",
      "Processing record 45 of set 11 | pyapon.\n",
      "Processing record 46 of set 11 | paamiut.\n",
      "Processing record 47 of set 11 | buzmeyin.\n",
      "Processing record 48 of set 11 | santo antonio do ica.\n",
      "Processing record 49 of set 11 | hualmay.\n",
      "Processing record 50 of set 11 | pilar.\n",
      "Processing record 1 of set 12 | lichtenburg.\n",
      "Processing record 2 of set 12 | olinda.\n",
      "Processing record 3 of set 12 | belmonte.\n",
      "Processing record 4 of set 12 | ponta delgada.\n",
      "Processing record 5 of set 12 | dillon.\n",
      "Processing record 6 of set 12 | ayan.\n",
      "Processing record 7 of set 12 | yantarnyy.\n",
      "Processing record 8 of set 12 | luorong.\n",
      "not found\n",
      "Processing record 9 of set 12 | jumla.\n",
      "Processing record 10 of set 12 | suhbaatar.\n",
      "Processing record 11 of set 12 | sioux lookout.\n",
      "Processing record 12 of set 12 | ulagan.\n",
      "Processing record 13 of set 12 | diu.\n",
      "Processing record 14 of set 12 | monywa.\n",
      "Processing record 15 of set 12 | nhulunbuy.\n",
      "Processing record 16 of set 12 | opuwo.\n",
      "Processing record 17 of set 12 | basco.\n",
      "Processing record 18 of set 12 | kautokeino.\n",
      "Processing record 19 of set 12 | muroto.\n"
     ]
    },
    {
     "name": "stdout",
     "output_type": "stream",
     "text": [
      "Processing record 20 of set 12 | santarem.\n",
      "Processing record 21 of set 12 | omboue.\n",
      "Processing record 22 of set 12 | ketchikan.\n",
      "Processing record 23 of set 12 | dunedin.\n",
      "not found\n",
      "Processing record 24 of set 12 | bowen.\n",
      "Processing record 25 of set 12 | lincoln.\n",
      "Processing record 26 of set 12 | yangambi.\n",
      "\n",
      "-----------------------------\n",
      "     Data Retrieval End\n",
      "-----------------------------\n"
     ]
    }
   ],
   "source": [
    "#number of Cities\n",
    "x = 0\n",
    "set = 1\n",
    "\n",
    "#Variables\n",
    "temp = []\n",
    "humd = []\n",
    "cloud = []\n",
    "wind_spd = []\n",
    "lat = []\n",
    "lon = []\n",
    "city_ = []\n",
    "city_no = []\n",
    "country = []\n",
    "max_t = []\n",
    "date = []\n",
    "\n",
    "\n",
    "print('''\n",
    "-----------------------------\n",
    "Data Retrieval Begin\n",
    "-----------------------------\n",
    "''')\n",
    "\n",
    "\n",
    "for city in cities:\n",
    "    try:\n",
    "        \n",
    "        city_data = (requests.get(query_url + city)).json()\n",
    "        city_.append(city_data[\"name\"])\n",
    "        country.append(city_data[\"sys\"][\"country\"])\n",
    "        date.append(city_data[\"dt\"])        \n",
    "        lat.append(city_data[\"coord\"][\"lat\"])\n",
    "        lon.append(city_data[\"coord\"][\"lon\"])        \n",
    "        temp.append(city_data[\"main\"][\"temp\"])\n",
    "        max_t.append(city_data[\"main\"][\"temp_max\"])\n",
    "        humd.append(city_data[\"main\"][\"humidity\"])\n",
    "        cloud.append(city_data[\"clouds\"][\"all\"])\n",
    "        wind_spd.append(city_data[\"wind\"][\"speed\"])\n",
    "\n",
    "        \n",
    "        if x == 50:\n",
    "            x = 1\n",
    "            set += 1\n",
    "            time.sleep(30)\n",
    "            \n",
    "        else:\n",
    "            x += 1\n",
    "        \n",
    "        print(f\"Processing record {x} of set {set} | {city}.\")\n",
    " \n",
    "    except KeyError:\n",
    "        print(\"not found\")\n",
    "        \n",
    "print('''\n",
    "-----------------------------\n",
    "     Data Retrieval End\n",
    "-----------------------------''')\n"
   ]
  },
  {
   "cell_type": "code",
   "execution_count": 5,
   "metadata": {},
   "outputs": [
    {
     "data": {
      "text/plain": [
       "576"
      ]
     },
     "execution_count": 5,
     "metadata": {},
     "output_type": "execute_result"
    }
   ],
   "source": [
    "len(city_)"
   ]
  },
  {
   "cell_type": "markdown",
   "metadata": {},
   "source": [
    "### Convert Raw Data to DataFrame\n",
    "* Export the city data into a .csv.\n",
    "* Display the DataFrame"
   ]
  },
  {
   "cell_type": "code",
   "execution_count": 6,
   "metadata": {
    "scrolled": false
   },
   "outputs": [
    {
     "data": {
      "text/plain": [
       "city_name     576\n",
       "country       576\n",
       "date          576\n",
       "latitude      576\n",
       "longitude     576\n",
       "temp          576\n",
       "humidity      576\n",
       "cloudiness    576\n",
       "wind_speed    576\n",
       "dtype: int64"
      ]
     },
     "execution_count": 6,
     "metadata": {},
     "output_type": "execute_result"
    }
   ],
   "source": [
    "# summary_grouped_df = pd.DataFrame({'Mean Tumor Volume (mm3)': tumor_mean, 'Median Tumor Volume (mm3)': tumor_median, 'Variance Tumor Volume (mm3)': tumor_var,\n",
    "#                                    'Standard Deviation Tumor Volume (mm3)': tumor_std, 'SEM Tumor Volume (mm3)': tumor_sem})\n",
    "\n",
    "\n",
    "# summary_grouped_df = pd.DataFrame({\"City\": city_, \"Lat\": lat, \"Lng\": lon, \"Max Temp\": max_t, \"Humidity\": humd, \"Cloudiness\": cloud, \"Wind Speed\": wind_spd, \"date\": date})\n",
    "\n",
    "city_dict = {\n",
    "    \"city_name\": city_, \n",
    "    \"country\": country, \n",
    "    \"date\": date,\n",
    "    \"latitude\": lat, \n",
    "    \"longitude\": lon, \n",
    "    \"temp\": max_t, \n",
    "    \"humidity\": humd, \n",
    "    \"cloudiness\": cloud, \n",
    "    \"wind_speed\": wind_spd  \n",
    "}\n",
    "\n",
    "city_data_df = pd.DataFrame(city_dict)\n",
    "\n",
    "city_data_df.count()"
   ]
  },
  {
   "cell_type": "code",
   "execution_count": 7,
   "metadata": {},
   "outputs": [],
   "source": [
    "#date"
   ]
  },
  {
   "cell_type": "code",
   "execution_count": 8,
   "metadata": {},
   "outputs": [
    {
     "data": {
      "text/html": [
       "<div>\n",
       "<style scoped>\n",
       "    .dataframe tbody tr th:only-of-type {\n",
       "        vertical-align: middle;\n",
       "    }\n",
       "\n",
       "    .dataframe tbody tr th {\n",
       "        vertical-align: top;\n",
       "    }\n",
       "\n",
       "    .dataframe thead th {\n",
       "        text-align: right;\n",
       "    }\n",
       "</style>\n",
       "<table border=\"1\" class=\"dataframe\">\n",
       "  <thead>\n",
       "    <tr style=\"text-align: right;\">\n",
       "      <th></th>\n",
       "      <th>city_name</th>\n",
       "      <th>country</th>\n",
       "      <th>date</th>\n",
       "      <th>latitude</th>\n",
       "      <th>longitude</th>\n",
       "      <th>temp</th>\n",
       "      <th>humidity</th>\n",
       "      <th>cloudiness</th>\n",
       "      <th>wind_speed</th>\n",
       "    </tr>\n",
       "  </thead>\n",
       "  <tbody>\n",
       "    <tr>\n",
       "      <th>0</th>\n",
       "      <td>Karakol</td>\n",
       "      <td>KG</td>\n",
       "      <td>1612788365</td>\n",
       "      <td>42.4907</td>\n",
       "      <td>78.3936</td>\n",
       "      <td>35.42</td>\n",
       "      <td>78</td>\n",
       "      <td>100</td>\n",
       "      <td>3.31</td>\n",
       "    </tr>\n",
       "    <tr>\n",
       "      <th>1</th>\n",
       "      <td>Darhan</td>\n",
       "      <td>MN</td>\n",
       "      <td>1612788365</td>\n",
       "      <td>49.4867</td>\n",
       "      <td>105.9228</td>\n",
       "      <td>6.44</td>\n",
       "      <td>89</td>\n",
       "      <td>21</td>\n",
       "      <td>2.42</td>\n",
       "    </tr>\n",
       "    <tr>\n",
       "      <th>2</th>\n",
       "      <td>Sassandra</td>\n",
       "      <td>CI</td>\n",
       "      <td>1612788365</td>\n",
       "      <td>4.9500</td>\n",
       "      <td>-6.0833</td>\n",
       "      <td>83.14</td>\n",
       "      <td>77</td>\n",
       "      <td>23</td>\n",
       "      <td>6.78</td>\n",
       "    </tr>\n",
       "    <tr>\n",
       "      <th>3</th>\n",
       "      <td>Rantepao</td>\n",
       "      <td>ID</td>\n",
       "      <td>1612788366</td>\n",
       "      <td>-2.9701</td>\n",
       "      <td>119.8978</td>\n",
       "      <td>69.71</td>\n",
       "      <td>89</td>\n",
       "      <td>100</td>\n",
       "      <td>1.70</td>\n",
       "    </tr>\n",
       "    <tr>\n",
       "      <th>4</th>\n",
       "      <td>Jamestown</td>\n",
       "      <td>US</td>\n",
       "      <td>1612788366</td>\n",
       "      <td>42.0970</td>\n",
       "      <td>-79.2353</td>\n",
       "      <td>10.00</td>\n",
       "      <td>85</td>\n",
       "      <td>90</td>\n",
       "      <td>4.61</td>\n",
       "    </tr>\n",
       "  </tbody>\n",
       "</table>\n",
       "</div>"
      ],
      "text/plain": [
       "   city_name country        date  latitude  longitude   temp  humidity  \\\n",
       "0    Karakol      KG  1612788365   42.4907    78.3936  35.42        78   \n",
       "1     Darhan      MN  1612788365   49.4867   105.9228   6.44        89   \n",
       "2  Sassandra      CI  1612788365    4.9500    -6.0833  83.14        77   \n",
       "3   Rantepao      ID  1612788366   -2.9701   119.8978  69.71        89   \n",
       "4  Jamestown      US  1612788366   42.0970   -79.2353  10.00        85   \n",
       "\n",
       "   cloudiness  wind_speed  \n",
       "0         100        3.31  \n",
       "1          21        2.42  \n",
       "2          23        6.78  \n",
       "3         100        1.70  \n",
       "4          90        4.61  "
      ]
     },
     "execution_count": 8,
     "metadata": {},
     "output_type": "execute_result"
    }
   ],
   "source": [
    "city_data_df.head()"
   ]
  },
  {
   "cell_type": "code",
   "execution_count": 9,
   "metadata": {
    "scrolled": true
   },
   "outputs": [],
   "source": [
    "#city_data_df.count()"
   ]
  },
  {
   "cell_type": "code",
   "execution_count": 10,
   "metadata": {},
   "outputs": [],
   "source": [
    "# Save city data into a csv file\n",
    "city_data_df.to_csv(\"../3_output_data/cities.csv\", index = False)\n"
   ]
  },
  {
   "cell_type": "code",
   "execution_count": 11,
   "metadata": {},
   "outputs": [
    {
     "data": {
      "text/plain": [
       "576"
      ]
     },
     "execution_count": 11,
     "metadata": {},
     "output_type": "execute_result"
    }
   ],
   "source": [
    "len(city_data_df)"
   ]
  },
  {
   "cell_type": "markdown",
   "metadata": {},
   "source": [
    "## Inspect the data and remove the cities where the humidity > 100%.\n",
    "----\n",
    "Skip this step if there are no cities that have humidity > 100%. "
   ]
  },
  {
   "cell_type": "code",
   "execution_count": 12,
   "metadata": {
    "scrolled": true
   },
   "outputs": [
    {
     "data": {
      "text/html": [
       "<div>\n",
       "<style scoped>\n",
       "    .dataframe tbody tr th:only-of-type {\n",
       "        vertical-align: middle;\n",
       "    }\n",
       "\n",
       "    .dataframe tbody tr th {\n",
       "        vertical-align: top;\n",
       "    }\n",
       "\n",
       "    .dataframe thead th {\n",
       "        text-align: right;\n",
       "    }\n",
       "</style>\n",
       "<table border=\"1\" class=\"dataframe\">\n",
       "  <thead>\n",
       "    <tr style=\"text-align: right;\">\n",
       "      <th></th>\n",
       "      <th>city_name</th>\n",
       "      <th>country</th>\n",
       "      <th>date</th>\n",
       "      <th>latitude</th>\n",
       "      <th>longitude</th>\n",
       "      <th>temp</th>\n",
       "      <th>humidity</th>\n",
       "      <th>cloudiness</th>\n",
       "      <th>wind_speed</th>\n",
       "    </tr>\n",
       "  </thead>\n",
       "  <tbody>\n",
       "    <tr>\n",
       "      <th>34</th>\n",
       "      <td>Torbay</td>\n",
       "      <td>CA</td>\n",
       "      <td>1612788191</td>\n",
       "      <td>47.6666</td>\n",
       "      <td>-52.7314</td>\n",
       "      <td>28.99</td>\n",
       "      <td>100</td>\n",
       "      <td>90</td>\n",
       "      <td>20.71</td>\n",
       "    </tr>\n",
       "    <tr>\n",
       "      <th>117</th>\n",
       "      <td>Airai</td>\n",
       "      <td>TL</td>\n",
       "      <td>1612788445</td>\n",
       "      <td>-8.9266</td>\n",
       "      <td>125.4092</td>\n",
       "      <td>61.29</td>\n",
       "      <td>100</td>\n",
       "      <td>100</td>\n",
       "      <td>2.46</td>\n",
       "    </tr>\n",
       "    <tr>\n",
       "      <th>125</th>\n",
       "      <td>Carnarvon</td>\n",
       "      <td>AU</td>\n",
       "      <td>1612788447</td>\n",
       "      <td>-24.8667</td>\n",
       "      <td>113.6333</td>\n",
       "      <td>80.60</td>\n",
       "      <td>100</td>\n",
       "      <td>0</td>\n",
       "      <td>18.41</td>\n",
       "    </tr>\n",
       "    <tr>\n",
       "      <th>141</th>\n",
       "      <td>Kloulklubed</td>\n",
       "      <td>PW</td>\n",
       "      <td>1612788450</td>\n",
       "      <td>7.0419</td>\n",
       "      <td>134.2556</td>\n",
       "      <td>78.80</td>\n",
       "      <td>100</td>\n",
       "      <td>75</td>\n",
       "      <td>6.91</td>\n",
       "    </tr>\n",
       "    <tr>\n",
       "      <th>173</th>\n",
       "      <td>Asău</td>\n",
       "      <td>RO</td>\n",
       "      <td>1612788485</td>\n",
       "      <td>46.4333</td>\n",
       "      <td>26.4000</td>\n",
       "      <td>34.00</td>\n",
       "      <td>100</td>\n",
       "      <td>90</td>\n",
       "      <td>8.05</td>\n",
       "    </tr>\n",
       "    <tr>\n",
       "      <th>208</th>\n",
       "      <td>Mendi</td>\n",
       "      <td>PG</td>\n",
       "      <td>1612788521</td>\n",
       "      <td>-6.1761</td>\n",
       "      <td>143.6513</td>\n",
       "      <td>58.03</td>\n",
       "      <td>99</td>\n",
       "      <td>99</td>\n",
       "      <td>1.99</td>\n",
       "    </tr>\n",
       "    <tr>\n",
       "      <th>265</th>\n",
       "      <td>San Blas</td>\n",
       "      <td>MX</td>\n",
       "      <td>1612788560</td>\n",
       "      <td>21.5167</td>\n",
       "      <td>-105.2667</td>\n",
       "      <td>37.40</td>\n",
       "      <td>100</td>\n",
       "      <td>1</td>\n",
       "      <td>3.60</td>\n",
       "    </tr>\n",
       "    <tr>\n",
       "      <th>271</th>\n",
       "      <td>Mont-Dore</td>\n",
       "      <td>NC</td>\n",
       "      <td>1612788560</td>\n",
       "      <td>-22.2833</td>\n",
       "      <td>166.5833</td>\n",
       "      <td>79.00</td>\n",
       "      <td>99</td>\n",
       "      <td>0</td>\n",
       "      <td>3.11</td>\n",
       "    </tr>\n",
       "    <tr>\n",
       "      <th>275</th>\n",
       "      <td>Bluefields</td>\n",
       "      <td>NI</td>\n",
       "      <td>1612788561</td>\n",
       "      <td>12.0137</td>\n",
       "      <td>-83.7635</td>\n",
       "      <td>73.40</td>\n",
       "      <td>100</td>\n",
       "      <td>75</td>\n",
       "      <td>2.98</td>\n",
       "    </tr>\n",
       "    <tr>\n",
       "      <th>286</th>\n",
       "      <td>Pangai</td>\n",
       "      <td>TO</td>\n",
       "      <td>1612788563</td>\n",
       "      <td>-19.8000</td>\n",
       "      <td>-174.3500</td>\n",
       "      <td>75.20</td>\n",
       "      <td>100</td>\n",
       "      <td>90</td>\n",
       "      <td>11.50</td>\n",
       "    </tr>\n",
       "    <tr>\n",
       "      <th>410</th>\n",
       "      <td>Voineasa</td>\n",
       "      <td>RO</td>\n",
       "      <td>1612788675</td>\n",
       "      <td>44.2833</td>\n",
       "      <td>24.1333</td>\n",
       "      <td>44.01</td>\n",
       "      <td>100</td>\n",
       "      <td>90</td>\n",
       "      <td>9.22</td>\n",
       "    </tr>\n",
       "    <tr>\n",
       "      <th>452</th>\n",
       "      <td>Floreffe</td>\n",
       "      <td>BE</td>\n",
       "      <td>1612788712</td>\n",
       "      <td>50.4347</td>\n",
       "      <td>4.7585</td>\n",
       "      <td>23.00</td>\n",
       "      <td>100</td>\n",
       "      <td>90</td>\n",
       "      <td>9.22</td>\n",
       "    </tr>\n",
       "    <tr>\n",
       "      <th>457</th>\n",
       "      <td>Tsagan Aman</td>\n",
       "      <td>RU</td>\n",
       "      <td>1612788713</td>\n",
       "      <td>47.5639</td>\n",
       "      <td>46.7218</td>\n",
       "      <td>28.00</td>\n",
       "      <td>99</td>\n",
       "      <td>100</td>\n",
       "      <td>7.99</td>\n",
       "    </tr>\n",
       "    <tr>\n",
       "      <th>462</th>\n",
       "      <td>Panguipulli</td>\n",
       "      <td>CL</td>\n",
       "      <td>1612788628</td>\n",
       "      <td>-39.6333</td>\n",
       "      <td>-72.3333</td>\n",
       "      <td>59.00</td>\n",
       "      <td>100</td>\n",
       "      <td>90</td>\n",
       "      <td>2.30</td>\n",
       "    </tr>\n",
       "    <tr>\n",
       "      <th>486</th>\n",
       "      <td>Castlebar</td>\n",
       "      <td>IE</td>\n",
       "      <td>1612788718</td>\n",
       "      <td>53.8500</td>\n",
       "      <td>-9.3000</td>\n",
       "      <td>37.00</td>\n",
       "      <td>100</td>\n",
       "      <td>75</td>\n",
       "      <td>14.97</td>\n",
       "    </tr>\n",
       "    <tr>\n",
       "      <th>554</th>\n",
       "      <td>Dillon</td>\n",
       "      <td>US</td>\n",
       "      <td>1612788789</td>\n",
       "      <td>34.4166</td>\n",
       "      <td>-79.3712</td>\n",
       "      <td>37.99</td>\n",
       "      <td>100</td>\n",
       "      <td>1</td>\n",
       "      <td>4.61</td>\n",
       "    </tr>\n",
       "  </tbody>\n",
       "</table>\n",
       "</div>"
      ],
      "text/plain": [
       "       city_name country        date  latitude  longitude   temp  humidity  \\\n",
       "34        Torbay      CA  1612788191   47.6666   -52.7314  28.99       100   \n",
       "117        Airai      TL  1612788445   -8.9266   125.4092  61.29       100   \n",
       "125    Carnarvon      AU  1612788447  -24.8667   113.6333  80.60       100   \n",
       "141  Kloulklubed      PW  1612788450    7.0419   134.2556  78.80       100   \n",
       "173         Asău      RO  1612788485   46.4333    26.4000  34.00       100   \n",
       "208        Mendi      PG  1612788521   -6.1761   143.6513  58.03        99   \n",
       "265     San Blas      MX  1612788560   21.5167  -105.2667  37.40       100   \n",
       "271    Mont-Dore      NC  1612788560  -22.2833   166.5833  79.00        99   \n",
       "275   Bluefields      NI  1612788561   12.0137   -83.7635  73.40       100   \n",
       "286       Pangai      TO  1612788563  -19.8000  -174.3500  75.20       100   \n",
       "410     Voineasa      RO  1612788675   44.2833    24.1333  44.01       100   \n",
       "452     Floreffe      BE  1612788712   50.4347     4.7585  23.00       100   \n",
       "457  Tsagan Aman      RU  1612788713   47.5639    46.7218  28.00        99   \n",
       "462  Panguipulli      CL  1612788628  -39.6333   -72.3333  59.00       100   \n",
       "486    Castlebar      IE  1612788718   53.8500    -9.3000  37.00       100   \n",
       "554       Dillon      US  1612788789   34.4166   -79.3712  37.99       100   \n",
       "\n",
       "     cloudiness  wind_speed  \n",
       "34           90       20.71  \n",
       "117         100        2.46  \n",
       "125           0       18.41  \n",
       "141          75        6.91  \n",
       "173          90        8.05  \n",
       "208          99        1.99  \n",
       "265           1        3.60  \n",
       "271           0        3.11  \n",
       "275          75        2.98  \n",
       "286          90       11.50  \n",
       "410          90        9.22  \n",
       "452          90        9.22  \n",
       "457         100        7.99  \n",
       "462          90        2.30  \n",
       "486          75       14.97  \n",
       "554           1        4.61  "
      ]
     },
     "execution_count": 12,
     "metadata": {},
     "output_type": "execute_result"
    }
   ],
   "source": [
    "#  Get the indices of cities that have humidity over 100%.\n",
    "\n",
    "city_data_humidity_df = city_data_df.loc[city_data_df[\"humidity\"] >= 99]\n",
    "\n",
    "#d2 = city_data_df.drop(city_data_df.loc[city_data_df[\"Humidity\"]>=93].index, inplace=True)\n",
    "\n",
    "city_data_humidity_df"
   ]
  },
  {
   "cell_type": "code",
   "execution_count": 13,
   "metadata": {},
   "outputs": [
    {
     "data": {
      "text/plain": [
       "16"
      ]
     },
     "execution_count": 13,
     "metadata": {},
     "output_type": "execute_result"
    }
   ],
   "source": [
    "len(city_data_humidity_df)"
   ]
  },
  {
   "cell_type": "code",
   "execution_count": 14,
   "metadata": {},
   "outputs": [
    {
     "name": "stdout",
     "output_type": "stream",
     "text": [
      "<class 'pandas.core.frame.DataFrame'>\n",
      "Int64Index: 16 entries, 34 to 554\n",
      "Data columns (total 9 columns):\n",
      " #   Column      Non-Null Count  Dtype  \n",
      "---  ------      --------------  -----  \n",
      " 0   city_name   16 non-null     object \n",
      " 1   country     16 non-null     object \n",
      " 2   date        16 non-null     int64  \n",
      " 3   latitude    16 non-null     float64\n",
      " 4   longitude   16 non-null     float64\n",
      " 5   temp        16 non-null     float64\n",
      " 6   humidity    16 non-null     int64  \n",
      " 7   cloudiness  16 non-null     int64  \n",
      " 8   wind_speed  16 non-null     float64\n",
      "dtypes: float64(4), int64(3), object(2)\n",
      "memory usage: 1.2+ KB\n"
     ]
    }
   ],
   "source": [
    "city_data_humidity_df.info(\n",
    ")"
   ]
  },
  {
   "cell_type": "code",
   "execution_count": 15,
   "metadata": {},
   "outputs": [],
   "source": [
    "# Make a new DataFrame equal to the city data to drop all humidity outliers by index.\n",
    "# Passing \"inplace=False\" will make a copy of the city_data DataFrame, which we call \"clean_city_data\".\n",
    "#df.drop(df.loc[df['line_race']==0].index, inplace=True)\n"
   ]
  },
  {
   "cell_type": "code",
   "execution_count": 16,
   "metadata": {},
   "outputs": [
    {
     "data": {
      "text/plain": [
       "16"
      ]
     },
     "execution_count": 16,
     "metadata": {},
     "output_type": "execute_result"
    }
   ],
   "source": [
    "len(city_data_humidity_df)\n"
   ]
  },
  {
   "cell_type": "markdown",
   "metadata": {},
   "source": [
    "## Plotting the Data\n",
    "* Use proper labeling of the plots using plot titles (including date of analysis) and axes labels.\n",
    "* Save the plotted figures as .pngs."
   ]
  },
  {
   "cell_type": "markdown",
   "metadata": {},
   "source": [
    "## Latitude vs. Temperature Plot"
   ]
  },
  {
   "cell_type": "code",
   "execution_count": 17,
   "metadata": {
    "scrolled": true
   },
   "outputs": [
    {
     "data": {
      "image/png": "[encoded data removed]",
      "text/plain": [
       "<Figure size 432x288 with 1 Axes>"
      ]
     },
     "metadata": {
      "needs_background": "light"
     },
     "output_type": "display_data"
    }
   ],
   "source": [
    "# Build a scatter plot for each data type\n",
    "plt.scatter(city_data_df[\"latitude\"], city_data_df[\"temp\"], marker=\"o\")\n",
    "# Incorporate the other graph properties\n",
    "plt.title(f'City Latitude vs. Max Temperature {time.strftime(\"%m/%d/%Y\")}')\n",
    "plt.ylabel(\"Temperature (F)\")\n",
    "plt.xlabel(\"Latitude\")\n",
    "plt.grid(True)\n",
    "# Save the figure\n",
    "plt.savefig(\"../3_output_data/City Latitude vs. Max Temperature.png\")\n",
    "# Show plot\n",
    "plt.show()\n"
   ]
  },
  {
   "cell_type": "markdown",
   "metadata": {},
   "source": [
    "## Latitude vs. Humidity Plot"
   ]
  },
  {
   "cell_type": "code",
   "execution_count": 18,
   "metadata": {},
   "outputs": [
    {
     "data": {
      "image/png": "[encoded data removed]",
      "text/plain": [
       "<Figure size 432x288 with 1 Axes>"
      ]
     },
     "metadata": {
      "needs_background": "light"
     },
     "output_type": "display_data"
    }
   ],
   "source": [
    "# Build a scatter plot for each data type\n",
    "plt.scatter(city_data_df[\"latitude\"], city_data_df[\"humidity\"], marker=\"o\")\n",
    "# Incorporate the other graph properties\n",
    "plt.title(f'City Latitude vs. Humidity {time.strftime(\"%m/%d/%Y\")}')\n",
    "plt.ylabel(\"Humidity (%)\")\n",
    "plt.xlabel(\"Latitude\")\n",
    "plt.grid(True)\n",
    "# Save the figure\n",
    "plt.savefig(\"../3_output_data/City Latitude vs. Humidity.png\")\n",
    "# Show plot\n",
    "plt.show()"
   ]
  },
  {
   "cell_type": "markdown",
   "metadata": {},
   "source": [
    "## Latitude vs. Cloudiness Plot"
   ]
  },
  {
   "cell_type": "code",
   "execution_count": 19,
   "metadata": {},
   "outputs": [
    {
     "data": {
      "image/png": "[encoded data removed]",
      "text/plain": [
       "<Figure size 432x288 with 1 Axes>"
      ]
     },
     "metadata": {
      "needs_background": "light"
     },
     "output_type": "display_data"
    }
   ],
   "source": [
    "# Build a scatter plot for each data type\n",
    "plt.scatter(city_data_df[\"latitude\"], city_data_df[\"cloudiness\"], marker=\"o\")\n",
    "# Incorporate the other graph properties\n",
    "plt.title(f'City Latitude vs. Cloudiness {time.strftime(\"%m/%d/%Y\")}')\n",
    "plt.ylabel(\"Cloudiness (%)\")\n",
    "plt.xlabel(\"Latitude\")\n",
    "plt.grid(True)\n",
    "# Save the figure\n",
    "plt.savefig(\"../3_output_data/City Latitude vs. Cloudiness.png\")\n",
    "# Show plot"
   ]
  },
  {
   "cell_type": "markdown",
   "metadata": {},
   "source": [
    "## Latitude vs. Wind Speed Plot"
   ]
  },
  {
   "cell_type": "code",
   "execution_count": 20,
   "metadata": {
    "scrolled": true
   },
   "outputs": [
    {
     "data": {
      "image/png": "[encoded data removed]",
      "text/plain": [
       "<Figure size 432x288 with 1 Axes>"
      ]
     },
     "metadata": {
      "needs_background": "light"
     },
     "output_type": "display_data"
    }
   ],
   "source": [
    "# Build a scatter plot for each data type\n",
    "plt.scatter(city_data_df[\"latitude\"], city_data_df[\"wind_speed\"], marker=\"o\")\n",
    "# Incorporate the other graph properties\n",
    "plt.title(f'City Latitude vs. Wind Speed {time.strftime(\"%m/%d/%Y\")}')\n",
    "plt.ylabel(\"Wind Speed (MPH)\")\n",
    "plt.xlabel(\"Latitude\")\n",
    "plt.grid(True)\n",
    "\n",
    "\n",
    "\n",
    "# Save the figure\n",
    "plt.savefig(\"../3_output_data/City Latitude vs. Wind Speed.png\")\n",
    "# Show plot"
   ]
  },
  {
   "cell_type": "markdown",
   "metadata": {},
   "source": [
    "## Linear Regression"
   ]
  },
  {
   "cell_type": "code",
   "execution_count": 21,
   "metadata": {},
   "outputs": [],
   "source": [
    "# Create Northern and Southern Hemisphere DataFrames\n",
    "northern_hemisphere = city_data_df.loc[city_data_df[\"latitude\"] >= 0]\n",
    "southern_hemisphere = city_data_df.loc[city_data_df[\"latitude\"] < 0]\n"
   ]
  },
  {
   "cell_type": "code",
   "execution_count": 22,
   "metadata": {},
   "outputs": [],
   "source": [
    "# Define function for creating linear agression and scatter plot\n",
    "def linear_agression(x,y):\n",
    "    rst = {round(st.pearsonr(x, y)[0],2)}\n",
    "    print(f\"The r-squared is : {round(st.pearsonr(x, y)[0],2)}\")\n",
    "    \n",
    "#     if float({round(st.pearsonr(x, y)[0],2)}) < -.5:\n",
    "#         print(\"There is a Strong Negative Correlation\")\n",
    "#     elif float({round(st.pearsonr(x, y)[0],2)}) < -.3 :\n",
    "#         print(\"There is a Negative Correlation\") \n",
    "#     elif float({round(st.pearsonr(x, y)[0],2)}) < .3 :\n",
    "#         print(\"There is a No Correlation\")\n",
    "#     elif float({round(st.pearsonr(x, y)[0],2)}) < .3 :\n",
    "#         print(\"There is a Positive Correlation\")    \n",
    "#     else:\n",
    "#         print(\"There is a Strong Positive Correlation\")\n",
    "    \n",
    "    (slope, intercept, rvalue, pvalue, stderr) = linregress(x, y)\n",
    "    regress_values = x * slope + intercept\n",
    "    line_eq = \"y = \" + str(round(slope,2)) + \"x + \" + str(round(intercept,2))\n",
    "    print(line_eq)\n",
    "    plt.scatter(x, y)\n",
    "    plt.plot(x,regress_values,\"r-\")\n",
    "    return line_eq\n",
    "    \n",
    "# Define a fuction for annotating\n",
    "def annotate(line_eq, a, b):\n",
    "    plt.annotate(line_eq,(a,b),fontsize=15,color=\"red\")\n",
    "\n"
   ]
  },
  {
   "cell_type": "markdown",
   "metadata": {},
   "source": [
    "####  Northern Hemisphere - Max Temp vs. Latitude Linear Regression"
   ]
  },
  {
   "cell_type": "code",
   "execution_count": 23,
   "metadata": {},
   "outputs": [
    {
     "name": "stdout",
     "output_type": "stream",
     "text": [
      "The r-squared is : -0.86\n",
      "y = -1.49x + 96.16\n",
      "Strong Negative Correlation between Max Temp and Latitude\n"
     ]
    },
    {
     "data": {
      "image/png": "[encoded data removed]",
      "text/plain": [
       "<Figure size 432x288 with 1 Axes>"
      ]
     },
     "metadata": {
      "needs_background": "light"
     },
     "output_type": "display_data"
    }
   ],
   "source": [
    "# Call an function #1\n",
    "equation = linear_agression(northern_hemisphere[\"latitude\"], northern_hemisphere[\"temp\"])\n",
    "# Call an function #2\n",
    "annotate(equation, 0, 20)\n",
    "# Set a title\n",
    "plt.title(f'Northern Hemisphere - Max Temp vs. Latitude Linear Regression {time.strftime(\"%m/%d/%Y\")}')\n",
    "print(f\"Strong Negative Correlation between Max Temp and Latitude\")\n",
    "# Set xlabel\n",
    "plt.xlabel(\"Latitude\")\n",
    "# Set ylabel\n",
    "plt.ylabel(\"Max Temp (F)\")\n",
    "\n",
    "# Save the figure\n",
    "plt.savefig(\"../3_output_data/Northern Hemisphere - Max Temp vs. Latitude Linear Regression.png\")"
   ]
  },
  {
   "cell_type": "markdown",
   "metadata": {},
   "source": [
    "####  Southern Hemisphere - Max Temp vs. Latitude Linear Regression"
   ]
  },
  {
   "cell_type": "code",
   "execution_count": 24,
   "metadata": {},
   "outputs": [
    {
     "name": "stdout",
     "output_type": "stream",
     "text": [
      "The r-squared is : 0.6\n",
      "y = 0.4x + 83.56\n",
      "Strong Positive Correlation between Max Temp and Latitude\n"
     ]
    },
    {
     "data": {
      "image/png": "[encoded data removed]",
      "text/plain": [
       "<Figure size 432x288 with 1 Axes>"
      ]
     },
     "metadata": {
      "needs_background": "light"
     },
     "output_type": "display_data"
    }
   ],
   "source": [
    "# Call an function #1\n",
    "equation = linear_agression(southern_hemisphere[\"latitude\"], southern_hemisphere[\"temp\"])\n",
    "# Call an function #2\n",
    "annotate(equation, 0, 75)\n",
    "# Set a title\n",
    "plt.title(f'Southern Hemisphere - Max Temp vs. Latitude Linear Regression {time.strftime(\"%m/%d/%Y\")}')\n",
    "print(f\"Strong Positive Correlation between Max Temp and Latitude\")\n",
    "# Set xlabel\n",
    "plt.xlabel(\"Latitude\")\n",
    "# Set ylabel\n",
    "plt.ylabel(\"Max Temp (F)\")\n",
    "\n",
    "# Save the figure\n",
    "plt.savefig(\"../3_output_data/Southern Hemisphere - Max Temp vs. Latitude Linear Regression.png\")"
   ]
  },
  {
   "cell_type": "markdown",
   "metadata": {},
   "source": [
    "####  Northern Hemisphere - Humidity (%) vs. Latitude Linear Regression"
   ]
  },
  {
   "cell_type": "code",
   "execution_count": 25,
   "metadata": {},
   "outputs": [
    {
     "name": "stdout",
     "output_type": "stream",
     "text": [
      "The r-squared is : 0.35\n",
      "y = 0.39x + 56.11\n",
      "Positive Correlation between Humidity and Latitude\n"
     ]
    },
    {
     "data": {
      "image/png": "[encoded data removed]",
      "text/plain": [
       "<Figure size 432x288 with 1 Axes>"
      ]
     },
     "metadata": {
      "needs_background": "light"
     },
     "output_type": "display_data"
    }
   ],
   "source": [
    "# Call an function #1\n",
    "equation = linear_agression(northern_hemisphere[\"latitude\"], northern_hemisphere[\"humidity\"])\n",
    "# Call an function #2\n",
    "annotate(equation, 0, 0)\n",
    "# Set a title\n",
    "plt.title(f'Northern Hemisphere - Humidity (%) vs. Latitude Linear Regression {time.strftime(\"%m/%d/%Y\")}')\n",
    "print(f\"Positive Correlation between Humidity and Latitude\")\n",
    "\n",
    "# Set xlabel\n",
    "plt.xlabel(\"Latitude\")\n",
    "# Set ylabel\n",
    "plt.ylabel(\"Humidity (%)\")\n",
    "\n",
    "# Save the figure\n",
    "plt.savefig(\"../3_output_data/Northern Hemisphere - Humidity vs. Latitude Linear Regression.png\")"
   ]
  },
  {
   "cell_type": "markdown",
   "metadata": {},
   "source": [
    "####  Southern Hemisphere - Humidity (%) vs. Latitude Linear Regression"
   ]
  },
  {
   "cell_type": "code",
   "execution_count": 26,
   "metadata": {},
   "outputs": [
    {
     "name": "stdout",
     "output_type": "stream",
     "text": [
      "The r-squared is : 0.19\n",
      "y = 0.25x + 78.59\n",
      "No Correlation between Humidity and Latitude\n"
     ]
    },
    {
     "data": {
      "image/png": "[encoded data removed]",
      "text/plain": [
       "<Figure size 432x288 with 1 Axes>"
      ]
     },
     "metadata": {
      "needs_background": "light"
     },
     "output_type": "display_data"
    }
   ],
   "source": [
    "# Call an function #1\n",
    "equation = linear_agression(southern_hemisphere[\"latitude\"], southern_hemisphere[\"humidity\"])\n",
    "# Call an function #2\n",
    "annotate(equation, 0, 75)\n",
    "# Set a title\n",
    "plt.title(f'Southern Hemisphere - Humidity (%) vs. Latitude Linear Regression {time.strftime(\"%m/%d/%Y\")}')\n",
    "print(f\"No Correlation between Humidity and Latitude\")\n",
    "\n",
    "# Set xlabel\n",
    "plt.xlabel(\"Latitude\")\n",
    "# Set ylabel\n",
    "plt.ylabel(\"Humidity (%)\")\n",
    "\n",
    "# Save the figure\n",
    "plt.savefig(\"../3_output_data/Southern Hemisphere - Max Temp vs. Latitude Linear Regression.png\")"
   ]
  },
  {
   "cell_type": "markdown",
   "metadata": {},
   "source": [
    "####  Northern Hemisphere - Cloudiness (%) vs. Latitude Linear Regression"
   ]
  },
  {
   "cell_type": "code",
   "execution_count": 27,
   "metadata": {},
   "outputs": [
    {
     "name": "stdout",
     "output_type": "stream",
     "text": [
      "The r-squared is : 0.06\n",
      "y = 0.13x + 46.07\n",
      "Positive Correlation between Humidity and Latitude \n"
     ]
    },
    {
     "data": {
      "image/png": "[encoded data removed]",
      "text/plain": [
       "<Figure size 432x288 with 1 Axes>"
      ]
     },
     "metadata": {
      "needs_background": "light"
     },
     "output_type": "display_data"
    }
   ],
   "source": [
    "# Call an function #1\n",
    "equation = linear_agression(northern_hemisphere[\"latitude\"], northern_hemisphere[\"cloudiness\"])\n",
    "# Call an function #2\n",
    "annotate(equation, 0, 75)\n",
    "# Set a title\n",
    "plt.title(f'Northern Hemisphere - Cloudiness (%) vs. Latitude Linear Regression {time.strftime(\"%m/%d/%Y\")}')\n",
    "print(f\"Positive Correlation between Humidity and Latitude \")\n",
    "\n",
    "# Set xlabel\n",
    "plt.xlabel(\"Latitude\")\n",
    "# Set ylabel\n",
    "plt.ylabel(\"Cloudiness (%)\")\n",
    "# Save the figure\n",
    "plt.savefig(\"../3_output_data/Northern Hemisphere - Cloudiness vs. Latitude Linear Regression.png\")"
   ]
  },
  {
   "cell_type": "markdown",
   "metadata": {},
   "source": [
    "####  Southern Hemisphere - Cloudiness (%) vs. Latitude Linear Regression"
   ]
  },
  {
   "cell_type": "code",
   "execution_count": 28,
   "metadata": {},
   "outputs": [
    {
     "name": "stdout",
     "output_type": "stream",
     "text": [
      "The r-squared is : 0.32\n",
      "y = 0.97x + 77.53\n",
      "Positive Correlation between Cloudiness and Latitude\n"
     ]
    },
    {
     "data": {
      "image/png": "[encoded data removed]",
      "text/plain": [
       "<Figure size 432x288 with 1 Axes>"
      ]
     },
     "metadata": {
      "needs_background": "light"
     },
     "output_type": "display_data"
    }
   ],
   "source": [
    "# Call an function #1\n",
    "equation = linear_agression(southern_hemisphere[\"latitude\"], southern_hemisphere[\"cloudiness\"])\n",
    "# Call an function #2\n",
    "annotate(equation, 0, 75)\n",
    "# Set a title\n",
    "plt.title(f'Southern Hemisphere - Cloudiness (%) vs. Latitude Linear Regression {time.strftime(\"%m/%d/%Y\")}')\n",
    "print(f\"Positive Correlation between Cloudiness and Latitude\")\n",
    "\n",
    "# Set xlabel\n",
    "plt.xlabel(\"Latitude\")\n",
    "# Set ylabel\n",
    "plt.ylabel(\"Cloudiness(%)\")\n",
    "# Save the figure\n",
    "plt.savefig(\"../3_output_data/Southern Hemisphere - Cloudiness vs. Latitude Linear Regression.png\")"
   ]
  },
  {
   "cell_type": "markdown",
   "metadata": {},
   "source": [
    "####  Northern Hemisphere - Wind Speed (mph) vs. Latitude Linear Regression"
   ]
  },
  {
   "cell_type": "code",
   "execution_count": 29,
   "metadata": {},
   "outputs": [
    {
     "name": "stdout",
     "output_type": "stream",
     "text": [
      "The r-squared is : 0.09\n",
      "y = 0.03x + 7.42\n",
      "No Correlation between Wind Speed and Latitude\n"
     ]
    },
    {
     "data": {
      "image/png": "[encoded data removed]",
      "text/plain": [
       "<Figure size 432x288 with 1 Axes>"
      ]
     },
     "metadata": {
      "needs_background": "light"
     },
     "output_type": "display_data"
    }
   ],
   "source": [
    "# Call an function #1\n",
    "equation = linear_agression(northern_hemisphere[\"latitude\"], northern_hemisphere[\"wind_speed\"])\n",
    "# Call an function #2\n",
    "annotate(equation, 0, 0)\n",
    "# Set a title\n",
    "\n",
    "\n",
    "plt.title(f'Northern Hemisphere - Wind Speed (%) vs. Latitude Linear Regression {time.strftime(\"%m/%d/%Y\")}')\n",
    "print(f\"No Correlation between Wind Speed and Latitude\")\n",
    "# Set xlabel\n",
    "plt.xlabel(\"Latitude\")\n",
    "# Set ylabel\n",
    "plt.ylabel(\"Wind Speed(%)\")\n",
    "# Save the figure\n",
    "plt.savefig(\"../3_output_data/northern Hemisphere - Wind Speed vs. Latitude Linear Regression.png\")"
   ]
  },
  {
   "cell_type": "markdown",
   "metadata": {},
   "source": [
    "####  Southern Hemisphere - Wind Speed (mph) vs. Latitude Linear Regression"
   ]
  },
  {
   "cell_type": "code",
   "execution_count": 30,
   "metadata": {
    "scrolled": true
   },
   "outputs": [
    {
     "name": "stdout",
     "output_type": "stream",
     "text": [
      "The r-squared is : -0.15\n",
      "y = -0.06x + 6.66\n",
      "No Correlation between Wind Speed and Latitude\n"
     ]
    },
    {
     "data": {
      "image/png": "[encoded data removed]",
      "text/plain": [
       "<Figure size 432x288 with 1 Axes>"
      ]
     },
     "metadata": {
      "needs_background": "light"
     },
     "output_type": "display_data"
    }
   ],
   "source": [
    "# Call an function #1\n",
    "equation = linear_agression(southern_hemisphere[\"latitude\"], southern_hemisphere[\"wind_speed\"])\n",
    "# Call an function #2\n",
    "annotate(equation, 0, 0)\n",
    "# Set a title\n",
    "plt.title(f'Southern Hemisphere - Wind Speed (%) vs. Latitude Linear Regression {time.strftime(\"%m/%d/%Y\")}')\n",
    "print(f\"No Correlation between Wind Speed and Latitude\")\n",
    "\n",
    "# Set xlabel\n",
    "plt.xlabel(\"Latitude\")\n",
    "# Set ylabel\n",
    "plt.ylabel(\"Wind Speed(%)\")\n",
    "# Save the figure\n",
    "plt.savefig(\"../3_output_data/Southern Hemisphere - Wind Speed vs. Latitude Linear Regression.png\")"
   ]
  },
  {
   "cell_type": "markdown",
   "metadata": {},
   "source": [
    "# Conclusion from a one day weather study \n",
    "For over 500 cities around the globe\n",
    "\n",
    "For the date and time that this study was done there is just a\n",
    "weak or no correlation except for the difference in temperature \n",
    "in the Northern Hemisphere. The difference in temperature between \n",
    "the cities at the equater and the cities that are farther to the \n",
    "north do have a strong correlation.\n",
    "\n",
    "Since the correlation is weak in 7 of 8 catagories this study \n",
    "should be continued for a larger sample size to see any long term tremds"
   ]
  },
  {
   "cell_type": "code",
   "execution_count": null,
   "metadata": {},
   "outputs": [],
   "source": []
  }
 ],
 "metadata": {
  "anaconda-cloud": {},
  "kernel_info": {
   "name": "python3"
  },
  "kernelspec": {
   "display_name": "Python 3",
   "language": "python",
   "name": "python3"
  },
  "language_info": {
   "codemirror_mode": {
    "name": "ipython",
    "version": 3
   },
   "file_extension": ".py",
   "mimetype": "text/x-python",
   "name": "python",
   "nbconvert_exporter": "python",
   "pygments_lexer": "ipython3",
   "version": "3.6.10"
  },
  "latex_envs": {
   "LaTeX_envs_menu_present": true,
   "autoclose": false,
   "autocomplete": true,
   "bibliofile": "biblio.bib",
   "cite_by": "apalike",
   "current_citInitial": 1,
   "eqLabelWithNumbers": true,
   "eqNumInitial": 1,
   "hotkeys": {
    "equation": "Ctrl-E",
    "itemize": "Ctrl-I"
   },
   "labels_anchors": false,
   "latex_user_defs": false,
   "report_style_numbering": false,
   "user_envs_cfg": false
  },
  "nteract": {
   "version": "0.12.3"
  }
 },
 "nbformat": 4,
 "nbformat_minor": 2
}
